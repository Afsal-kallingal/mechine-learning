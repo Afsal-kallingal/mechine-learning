{
 "cells": [
  {
   "cell_type": "code",
   "execution_count": 1,
   "id": "eaaeff16",
   "metadata": {},
   "outputs": [],
   "source": [
    "import pandas as pd\n",
    "import numpy as np\n",
    "import matplotlib.pyplot as plt\n",
    "import seaborn as sns"
   ]
  },
  {
   "cell_type": "code",
   "execution_count": 2,
   "id": "54164bc4",
   "metadata": {},
   "outputs": [],
   "source": [
    "a=pd.read_csv('D:/afsal/dataset/salaries.csv')"
   ]
  },
  {
   "cell_type": "code",
   "execution_count": 3,
   "id": "4ad0ac5b",
   "metadata": {},
   "outputs": [
    {
     "data": {
      "text/html": [
       "<div>\n",
       "<style scoped>\n",
       "    .dataframe tbody tr th:only-of-type {\n",
       "        vertical-align: middle;\n",
       "    }\n",
       "\n",
       "    .dataframe tbody tr th {\n",
       "        vertical-align: top;\n",
       "    }\n",
       "\n",
       "    .dataframe thead th {\n",
       "        text-align: right;\n",
       "    }\n",
       "</style>\n",
       "<table border=\"1\" class=\"dataframe\">\n",
       "  <thead>\n",
       "    <tr style=\"text-align: right;\">\n",
       "      <th></th>\n",
       "      <th>work_year</th>\n",
       "      <th>experience_level</th>\n",
       "      <th>employment_type</th>\n",
       "      <th>job_title</th>\n",
       "      <th>salary</th>\n",
       "      <th>salary_currency</th>\n",
       "      <th>salary_in_usd</th>\n",
       "      <th>employee_residence</th>\n",
       "      <th>remote_ratio</th>\n",
       "      <th>company_location</th>\n",
       "      <th>company_size</th>\n",
       "    </tr>\n",
       "  </thead>\n",
       "  <tbody>\n",
       "    <tr>\n",
       "      <th>0</th>\n",
       "      <td>2022</td>\n",
       "      <td>MI</td>\n",
       "      <td>FT</td>\n",
       "      <td>Machine Learning Engineer</td>\n",
       "      <td>130000</td>\n",
       "      <td>USD</td>\n",
       "      <td>130000</td>\n",
       "      <td>US</td>\n",
       "      <td>0</td>\n",
       "      <td>US</td>\n",
       "      <td>M</td>\n",
       "    </tr>\n",
       "    <tr>\n",
       "      <th>1</th>\n",
       "      <td>2022</td>\n",
       "      <td>MI</td>\n",
       "      <td>FT</td>\n",
       "      <td>Machine Learning Engineer</td>\n",
       "      <td>90000</td>\n",
       "      <td>USD</td>\n",
       "      <td>90000</td>\n",
       "      <td>US</td>\n",
       "      <td>0</td>\n",
       "      <td>US</td>\n",
       "      <td>M</td>\n",
       "    </tr>\n",
       "    <tr>\n",
       "      <th>2</th>\n",
       "      <td>2022</td>\n",
       "      <td>MI</td>\n",
       "      <td>FT</td>\n",
       "      <td>Data Scientist</td>\n",
       "      <td>120000</td>\n",
       "      <td>USD</td>\n",
       "      <td>120000</td>\n",
       "      <td>US</td>\n",
       "      <td>100</td>\n",
       "      <td>US</td>\n",
       "      <td>M</td>\n",
       "    </tr>\n",
       "    <tr>\n",
       "      <th>3</th>\n",
       "      <td>2022</td>\n",
       "      <td>MI</td>\n",
       "      <td>FT</td>\n",
       "      <td>Data Scientist</td>\n",
       "      <td>100000</td>\n",
       "      <td>USD</td>\n",
       "      <td>100000</td>\n",
       "      <td>US</td>\n",
       "      <td>100</td>\n",
       "      <td>US</td>\n",
       "      <td>M</td>\n",
       "    </tr>\n",
       "    <tr>\n",
       "      <th>4</th>\n",
       "      <td>2022</td>\n",
       "      <td>MI</td>\n",
       "      <td>FT</td>\n",
       "      <td>Data Scientist</td>\n",
       "      <td>85000</td>\n",
       "      <td>USD</td>\n",
       "      <td>85000</td>\n",
       "      <td>US</td>\n",
       "      <td>100</td>\n",
       "      <td>US</td>\n",
       "      <td>M</td>\n",
       "    </tr>\n",
       "  </tbody>\n",
       "</table>\n",
       "</div>"
      ],
      "text/plain": [
       "   work_year experience_level employment_type                  job_title  \\\n",
       "0       2022               MI              FT  Machine Learning Engineer   \n",
       "1       2022               MI              FT  Machine Learning Engineer   \n",
       "2       2022               MI              FT             Data Scientist   \n",
       "3       2022               MI              FT             Data Scientist   \n",
       "4       2022               MI              FT             Data Scientist   \n",
       "\n",
       "   salary salary_currency  salary_in_usd employee_residence  remote_ratio  \\\n",
       "0  130000             USD         130000                 US             0   \n",
       "1   90000             USD          90000                 US             0   \n",
       "2  120000             USD         120000                 US           100   \n",
       "3  100000             USD         100000                 US           100   \n",
       "4   85000             USD          85000                 US           100   \n",
       "\n",
       "  company_location company_size  \n",
       "0               US            M  \n",
       "1               US            M  \n",
       "2               US            M  \n",
       "3               US            M  \n",
       "4               US            M  "
      ]
     },
     "execution_count": 3,
     "metadata": {},
     "output_type": "execute_result"
    }
   ],
   "source": [
    "a.head()"
   ]
  },
  {
   "cell_type": "code",
   "execution_count": 4,
   "id": "667f18e8",
   "metadata": {},
   "outputs": [
    {
     "name": "stdout",
     "output_type": "stream",
     "text": [
      "<class 'pandas.core.frame.DataFrame'>\n",
      "RangeIndex: 1332 entries, 0 to 1331\n",
      "Data columns (total 11 columns):\n",
      " #   Column              Non-Null Count  Dtype \n",
      "---  ------              --------------  ----- \n",
      " 0   work_year           1332 non-null   int64 \n",
      " 1   experience_level    1332 non-null   object\n",
      " 2   employment_type     1332 non-null   object\n",
      " 3   job_title           1332 non-null   object\n",
      " 4   salary              1332 non-null   int64 \n",
      " 5   salary_currency     1332 non-null   object\n",
      " 6   salary_in_usd       1332 non-null   int64 \n",
      " 7   employee_residence  1332 non-null   object\n",
      " 8   remote_ratio        1332 non-null   int64 \n",
      " 9   company_location    1332 non-null   object\n",
      " 10  company_size        1332 non-null   object\n",
      "dtypes: int64(4), object(7)\n",
      "memory usage: 114.6+ KB\n"
     ]
    }
   ],
   "source": [
    "a.info()"
   ]
  },
  {
   "cell_type": "code",
   "execution_count": 5,
   "id": "04935760",
   "metadata": {},
   "outputs": [
    {
     "data": {
      "text/plain": [
       "work_year             0\n",
       "experience_level      0\n",
       "employment_type       0\n",
       "job_title             0\n",
       "salary                0\n",
       "salary_currency       0\n",
       "salary_in_usd         0\n",
       "employee_residence    0\n",
       "remote_ratio          0\n",
       "company_location      0\n",
       "company_size          0\n",
       "dtype: int64"
      ]
     },
     "execution_count": 5,
     "metadata": {},
     "output_type": "execute_result"
    }
   ],
   "source": [
    "a.isna().sum()"
   ]
  },
  {
   "cell_type": "code",
   "execution_count": 6,
   "id": "4e598bd7",
   "metadata": {},
   "outputs": [
    {
     "data": {
      "text/plain": [
       "work_year              int64\n",
       "experience_level      object\n",
       "employment_type       object\n",
       "job_title             object\n",
       "salary                 int64\n",
       "salary_currency       object\n",
       "salary_in_usd          int64\n",
       "employee_residence    object\n",
       "remote_ratio           int64\n",
       "company_location      object\n",
       "company_size          object\n",
       "dtype: object"
      ]
     },
     "execution_count": 6,
     "metadata": {},
     "output_type": "execute_result"
    }
   ],
   "source": [
    "a.dtypes"
   ]
  },
  {
   "cell_type": "code",
   "execution_count": 7,
   "id": "bb2ec14f",
   "metadata": {},
   "outputs": [
    {
     "data": {
      "text/plain": [
       "4"
      ]
     },
     "execution_count": 7,
     "metadata": {},
     "output_type": "execute_result"
    }
   ],
   "source": [
    "a.experience_level.nunique()\n"
   ]
  },
  {
   "cell_type": "code",
   "execution_count": 8,
   "id": "b6899b27",
   "metadata": {},
   "outputs": [
    {
     "data": {
      "text/plain": [
       "4"
      ]
     },
     "execution_count": 8,
     "metadata": {},
     "output_type": "execute_result"
    }
   ],
   "source": [
    "a.employment_type.nunique()"
   ]
  },
  {
   "cell_type": "code",
   "execution_count": 9,
   "id": "9a25206d",
   "metadata": {},
   "outputs": [
    {
     "data": {
      "text/plain": [
       "array(['US', 'ES', 'GB', 'FR', 'CA', 'MX', 'BR', 'IN', 'AU', 'SG', 'PT',\n",
       "       'DE', 'NG', 'CZ', 'TR', 'PR', 'FI', 'AS', 'TH', 'NL', 'GR', 'DK',\n",
       "       'BO', 'PH', 'AL', 'AR', 'BE', 'ID', 'AT', 'EG', 'IT', 'AE', 'IE',\n",
       "       'LU', 'SI', 'MY', 'EE', 'PL', 'HN', 'CH', 'PK', 'JP', 'DZ', 'RO',\n",
       "       'IQ', 'RU', 'UA', 'CN', 'HU', 'KE', 'CO', 'NZ', 'IR', 'CL', 'MD',\n",
       "       'VN', 'HR', 'IL', 'MT'], dtype=object)"
      ]
     },
     "execution_count": 9,
     "metadata": {},
     "output_type": "execute_result"
    }
   ],
   "source": [
    "a.company_location.unique()"
   ]
  },
  {
   "cell_type": "code",
   "execution_count": 10,
   "id": "18ac5683",
   "metadata": {},
   "outputs": [
    {
     "data": {
      "text/plain": [
       "array([2, 3, 1, 0])"
      ]
     },
     "execution_count": 10,
     "metadata": {},
     "output_type": "execute_result"
    }
   ],
   "source": [
    "from sklearn import preprocessing\n",
    "  \n",
    "# label_encoder object knows how to understand word labels.\n",
    "label_encoder = preprocessing.LabelEncoder()\n",
    "  \n",
    "# Encode labels in column 'species'.\n",
    "a['experience_level']= label_encoder.fit_transform(a['experience_level'])\n",
    "  \n",
    "a['experience_level'].unique()"
   ]
  },
  {
   "cell_type": "code",
   "execution_count": 11,
   "id": "bfcceb26",
   "metadata": {},
   "outputs": [
    {
     "data": {
      "text/plain": [
       "array([2, 3, 0, 1])"
      ]
     },
     "execution_count": 11,
     "metadata": {},
     "output_type": "execute_result"
    }
   ],
   "source": [
    "a['employment_type']= label_encoder.fit_transform(a['employment_type'])\n",
    "  \n",
    "a['employment_type'].unique()"
   ]
  },
  {
   "cell_type": "code",
   "execution_count": 12,
   "id": "0d2e3cab",
   "metadata": {},
   "outputs": [
    {
     "data": {
      "text/html": [
       "<div>\n",
       "<style scoped>\n",
       "    .dataframe tbody tr th:only-of-type {\n",
       "        vertical-align: middle;\n",
       "    }\n",
       "\n",
       "    .dataframe tbody tr th {\n",
       "        vertical-align: top;\n",
       "    }\n",
       "\n",
       "    .dataframe thead th {\n",
       "        text-align: right;\n",
       "    }\n",
       "</style>\n",
       "<table border=\"1\" class=\"dataframe\">\n",
       "  <thead>\n",
       "    <tr style=\"text-align: right;\">\n",
       "      <th></th>\n",
       "      <th>work_year</th>\n",
       "      <th>experience_level</th>\n",
       "      <th>employment_type</th>\n",
       "      <th>job_title</th>\n",
       "      <th>salary</th>\n",
       "      <th>salary_currency</th>\n",
       "      <th>salary_in_usd</th>\n",
       "      <th>employee_residence</th>\n",
       "      <th>remote_ratio</th>\n",
       "      <th>company_location</th>\n",
       "      <th>company_size</th>\n",
       "    </tr>\n",
       "  </thead>\n",
       "  <tbody>\n",
       "    <tr>\n",
       "      <th>0</th>\n",
       "      <td>2022</td>\n",
       "      <td>2</td>\n",
       "      <td>2</td>\n",
       "      <td>Machine Learning Engineer</td>\n",
       "      <td>130000</td>\n",
       "      <td>USD</td>\n",
       "      <td>130000</td>\n",
       "      <td>US</td>\n",
       "      <td>0</td>\n",
       "      <td>US</td>\n",
       "      <td>M</td>\n",
       "    </tr>\n",
       "    <tr>\n",
       "      <th>1</th>\n",
       "      <td>2022</td>\n",
       "      <td>2</td>\n",
       "      <td>2</td>\n",
       "      <td>Machine Learning Engineer</td>\n",
       "      <td>90000</td>\n",
       "      <td>USD</td>\n",
       "      <td>90000</td>\n",
       "      <td>US</td>\n",
       "      <td>0</td>\n",
       "      <td>US</td>\n",
       "      <td>M</td>\n",
       "    </tr>\n",
       "    <tr>\n",
       "      <th>2</th>\n",
       "      <td>2022</td>\n",
       "      <td>2</td>\n",
       "      <td>2</td>\n",
       "      <td>Data Scientist</td>\n",
       "      <td>120000</td>\n",
       "      <td>USD</td>\n",
       "      <td>120000</td>\n",
       "      <td>US</td>\n",
       "      <td>100</td>\n",
       "      <td>US</td>\n",
       "      <td>M</td>\n",
       "    </tr>\n",
       "    <tr>\n",
       "      <th>3</th>\n",
       "      <td>2022</td>\n",
       "      <td>2</td>\n",
       "      <td>2</td>\n",
       "      <td>Data Scientist</td>\n",
       "      <td>100000</td>\n",
       "      <td>USD</td>\n",
       "      <td>100000</td>\n",
       "      <td>US</td>\n",
       "      <td>100</td>\n",
       "      <td>US</td>\n",
       "      <td>M</td>\n",
       "    </tr>\n",
       "    <tr>\n",
       "      <th>4</th>\n",
       "      <td>2022</td>\n",
       "      <td>2</td>\n",
       "      <td>2</td>\n",
       "      <td>Data Scientist</td>\n",
       "      <td>85000</td>\n",
       "      <td>USD</td>\n",
       "      <td>85000</td>\n",
       "      <td>US</td>\n",
       "      <td>100</td>\n",
       "      <td>US</td>\n",
       "      <td>M</td>\n",
       "    </tr>\n",
       "  </tbody>\n",
       "</table>\n",
       "</div>"
      ],
      "text/plain": [
       "   work_year  experience_level  employment_type                  job_title  \\\n",
       "0       2022                 2                2  Machine Learning Engineer   \n",
       "1       2022                 2                2  Machine Learning Engineer   \n",
       "2       2022                 2                2             Data Scientist   \n",
       "3       2022                 2                2             Data Scientist   \n",
       "4       2022                 2                2             Data Scientist   \n",
       "\n",
       "   salary salary_currency  salary_in_usd employee_residence  remote_ratio  \\\n",
       "0  130000             USD         130000                 US             0   \n",
       "1   90000             USD          90000                 US             0   \n",
       "2  120000             USD         120000                 US           100   \n",
       "3  100000             USD         100000                 US           100   \n",
       "4   85000             USD          85000                 US           100   \n",
       "\n",
       "  company_location company_size  \n",
       "0               US            M  \n",
       "1               US            M  \n",
       "2               US            M  \n",
       "3               US            M  \n",
       "4               US            M  "
      ]
     },
     "execution_count": 12,
     "metadata": {},
     "output_type": "execute_result"
    }
   ],
   "source": [
    "a.head()"
   ]
  },
  {
   "cell_type": "code",
   "execution_count": 13,
   "id": "91ce2751",
   "metadata": {},
   "outputs": [
    {
     "data": {
      "text/plain": [
       "array([47, 30, 21, 38, 15,  6,  2, 61, 24, 45, 20, 25,  0, 52, 28, 54, 60,\n",
       "       26, 23,  7,  9, 56, 49,  5, 43, 44, 53, 62, 17, 35,  1, 31, 29, 32,\n",
       "       10,  4, 50, 51, 46, 22, 34, 37, 14, 16, 59, 48,  3, 11, 19, 42, 40,\n",
       "       27, 39, 13, 55, 18, 58, 57, 41, 33, 12,  8, 63, 36])"
      ]
     },
     "execution_count": 13,
     "metadata": {},
     "output_type": "execute_result"
    }
   ],
   "source": [
    "a['job_title']= label_encoder.fit_transform(a['job_title'])\n",
    "  \n",
    "a['job_title'].unique()"
   ]
  },
  {
   "cell_type": "code",
   "execution_count": 14,
   "id": "14998ee0",
   "metadata": {},
   "outputs": [
    {
     "data": {
      "text/plain": [
       "array([17,  8,  9,  2, 11,  0,  6,  1,  7, 15,  5, 14,  3, 12, 10, 13, 16,\n",
       "        4])"
      ]
     },
     "execution_count": 14,
     "metadata": {},
     "output_type": "execute_result"
    }
   ],
   "source": [
    "a['salary_currency']= label_encoder.fit_transform(a['salary_currency'])\n",
    "  \n",
    "a['salary_currency'].unique()"
   ]
  },
  {
   "cell_type": "code",
   "execution_count": 15,
   "id": "af9bed69",
   "metadata": {},
   "outputs": [],
   "source": [
    "a=a.drop(['employee_residence','company_location'],axis=1)"
   ]
  },
  {
   "cell_type": "code",
   "execution_count": null,
   "id": "29d7ebc1",
   "metadata": {},
   "outputs": [],
   "source": []
  },
  {
   "cell_type": "code",
   "execution_count": 16,
   "id": "e6ed6551",
   "metadata": {},
   "outputs": [
    {
     "data": {
      "text/plain": [
       "array([1, 0, 2])"
      ]
     },
     "execution_count": 16,
     "metadata": {},
     "output_type": "execute_result"
    }
   ],
   "source": [
    "a['company_size']= label_encoder.fit_transform(a['company_size'])\n",
    "  \n",
    "a['company_size'].unique()"
   ]
  },
  {
   "cell_type": "code",
   "execution_count": 17,
   "id": "a42490a6",
   "metadata": {},
   "outputs": [
    {
     "data": {
      "text/html": [
       "<div>\n",
       "<style scoped>\n",
       "    .dataframe tbody tr th:only-of-type {\n",
       "        vertical-align: middle;\n",
       "    }\n",
       "\n",
       "    .dataframe tbody tr th {\n",
       "        vertical-align: top;\n",
       "    }\n",
       "\n",
       "    .dataframe thead th {\n",
       "        text-align: right;\n",
       "    }\n",
       "</style>\n",
       "<table border=\"1\" class=\"dataframe\">\n",
       "  <thead>\n",
       "    <tr style=\"text-align: right;\">\n",
       "      <th></th>\n",
       "      <th>work_year</th>\n",
       "      <th>experience_level</th>\n",
       "      <th>employment_type</th>\n",
       "      <th>job_title</th>\n",
       "      <th>salary</th>\n",
       "      <th>salary_currency</th>\n",
       "      <th>salary_in_usd</th>\n",
       "      <th>remote_ratio</th>\n",
       "      <th>company_size</th>\n",
       "    </tr>\n",
       "  </thead>\n",
       "  <tbody>\n",
       "    <tr>\n",
       "      <th>0</th>\n",
       "      <td>2022</td>\n",
       "      <td>2</td>\n",
       "      <td>2</td>\n",
       "      <td>47</td>\n",
       "      <td>130000</td>\n",
       "      <td>17</td>\n",
       "      <td>130000</td>\n",
       "      <td>0</td>\n",
       "      <td>1</td>\n",
       "    </tr>\n",
       "    <tr>\n",
       "      <th>1</th>\n",
       "      <td>2022</td>\n",
       "      <td>2</td>\n",
       "      <td>2</td>\n",
       "      <td>47</td>\n",
       "      <td>90000</td>\n",
       "      <td>17</td>\n",
       "      <td>90000</td>\n",
       "      <td>0</td>\n",
       "      <td>1</td>\n",
       "    </tr>\n",
       "    <tr>\n",
       "      <th>2</th>\n",
       "      <td>2022</td>\n",
       "      <td>2</td>\n",
       "      <td>2</td>\n",
       "      <td>30</td>\n",
       "      <td>120000</td>\n",
       "      <td>17</td>\n",
       "      <td>120000</td>\n",
       "      <td>100</td>\n",
       "      <td>1</td>\n",
       "    </tr>\n",
       "    <tr>\n",
       "      <th>3</th>\n",
       "      <td>2022</td>\n",
       "      <td>2</td>\n",
       "      <td>2</td>\n",
       "      <td>30</td>\n",
       "      <td>100000</td>\n",
       "      <td>17</td>\n",
       "      <td>100000</td>\n",
       "      <td>100</td>\n",
       "      <td>1</td>\n",
       "    </tr>\n",
       "    <tr>\n",
       "      <th>4</th>\n",
       "      <td>2022</td>\n",
       "      <td>2</td>\n",
       "      <td>2</td>\n",
       "      <td>30</td>\n",
       "      <td>85000</td>\n",
       "      <td>17</td>\n",
       "      <td>85000</td>\n",
       "      <td>100</td>\n",
       "      <td>1</td>\n",
       "    </tr>\n",
       "  </tbody>\n",
       "</table>\n",
       "</div>"
      ],
      "text/plain": [
       "   work_year  experience_level  employment_type  job_title  salary  \\\n",
       "0       2022                 2                2         47  130000   \n",
       "1       2022                 2                2         47   90000   \n",
       "2       2022                 2                2         30  120000   \n",
       "3       2022                 2                2         30  100000   \n",
       "4       2022                 2                2         30   85000   \n",
       "\n",
       "   salary_currency  salary_in_usd  remote_ratio  company_size  \n",
       "0               17         130000             0             1  \n",
       "1               17          90000             0             1  \n",
       "2               17         120000           100             1  \n",
       "3               17         100000           100             1  \n",
       "4               17          85000           100             1  "
      ]
     },
     "execution_count": 17,
     "metadata": {},
     "output_type": "execute_result"
    }
   ],
   "source": [
    "a.head()"
   ]
  },
  {
   "cell_type": "code",
   "execution_count": 18,
   "id": "2668ee68",
   "metadata": {},
   "outputs": [],
   "source": [
    "a.columns\n",
    "y=a['salary_in_usd']\n",
    "x=a.drop('salary_in_usd',axis=1)"
   ]
  },
  {
   "cell_type": "code",
   "execution_count": 19,
   "id": "c7fbe24b",
   "metadata": {},
   "outputs": [],
   "source": [
    "from sklearn.model_selection import train_test_split\n",
    "x_train,x_test,y_train,y_test=train_test_split(x,y,random_state=42,test_size=0.2)"
   ]
  },
  {
   "cell_type": "code",
   "execution_count": 20,
   "id": "dfb64026",
   "metadata": {},
   "outputs": [],
   "source": [
    "from sklearn import linear_model\n",
    "lr=linear_model.LinearRegression()\n",
    "\n",
    "model=lr.fit(x_train,y_train)\n",
    "prediction=model.predict(x_test)"
   ]
  },
  {
   "cell_type": "code",
   "execution_count": 21,
   "id": "2b939201",
   "metadata": {},
   "outputs": [
    {
     "data": {
      "text/plain": [
       "array([135956.36589006,  91714.27745988, 168793.21152226, 161545.49207328,\n",
       "       143454.59044598, 143554.29929184, 149192.69870656, 108649.73460448,\n",
       "       142621.26678734, 161105.8670874 , 154532.69178883, 149153.47267128,\n",
       "       113057.03510289, 142630.60631955, 143597.48528878, 142596.29910457,\n",
       "       149251.22644173, 139192.97430028, 129694.74879943, 143535.53305846,\n",
       "       122436.16071132, 122211.00628528, 118872.79917645, 129750.16335721,\n",
       "       137520.95040544, 139204.80437441,  72336.34846544, 144866.95110636,\n",
       "       142636.83267435, 138269.25019621,  78016.03198241,  73253.72791397,\n",
       "       142636.83267435, 142603.39714905, 161583.5973647 , 156965.35366123,\n",
       "       121275.88172556, 127099.74173674, 138262.51950667,  59302.14340492,\n",
       "       143128.76849958, 142621.26678734, 172019.6087106 , 139184.88003903,\n",
       "       149151.60476484, 111143.03053413, 129959.91332195, 149201.41560329,\n",
       "       138284.31174849,  57968.2269506 , 141907.78047974,  81484.9551267 ,\n",
       "       138281.19857108, 142625.00260022,  36615.08785666, 139198.20443832,\n",
       "       143519.53132661,  45060.69818285, 128781.72779927, 138278.53369123,\n",
       "       128622.44086496, 128784.84097668, 113300.58716812,  37806.73957271,\n",
       "        70563.95610802, 133270.32006114, 142617.53097445, 143602.15505488,\n",
       "       142611.92725513, 128763.04873486, 125354.71013968,  98779.57800801,\n",
       "       154547.75956746, 142608.81407773, 129261.99290136,  84177.05812357,\n",
       "       149178.3780905 ,  76695.09574611, 129633.73052233, 111861.7120146 ,\n",
       "       149358.36202897, 121784.7065382 , 162038.56336874, 125818.06963004,\n",
       "        84104.24497314,  90907.87045348, 143568.53273893,  87862.47415321,\n",
       "       142611.92725513,  76691.98256871,  79787.41752219,  50502.33938075,\n",
       "       128998.25309833,  79095.16875342, 162508.19938479,  40348.55019872,\n",
       "       147844.59915522, 143519.53132661, 122236.84565773, 161106.98783126,\n",
       "       141950.7423279 , 142658.62491617, 149170.28382926, 139196.77237671,\n",
       "       109519.92378791,  89508.10572935, 143579.1175421 , 149163.13908712,\n",
       "        84167.71859136, 141110.47616259, 142549.66370707, 129801.45058155,\n",
       "       149217.0499802 ,  70558.97502418, 118158.81932761, 119737.44790037,\n",
       "       149139.15205523,  72405.27339451, 153833.21477955,  77581.34342061,\n",
       "       147682.45228795,  60929.27877863, 149158.80243099, 142625.00260022,\n",
       "       142658.62491617,  93338.6657737 , 155464.88996179, 142624.37996474,\n",
       "       139390.19789944, 150126.01762338,  88962.78260379, 142664.85127098,\n",
       "       139213.70806178, 148617.88816541, 108003.32052903,  76685.75621391,\n",
       "        25477.69016943, 152771.96031869,  70552.74866937,  89176.90408169,\n",
       "        77593.79613022, 128135.66659144,  94789.77317265, 132180.53287075,\n",
       "        66203.34092091, 143560.87432252, 148428.77892503, 142662.5475197 ,\n",
       "       143485.72222001,  29491.68402576,  24206.60883104,  25120.48403548,\n",
       "       153793.30384524, 154581.25735632,  70601.49739186, 149196.06093815,\n",
       "       147695.52763304, 155421.30672342, 143602.15505488, 149194.23972937,\n",
       "       148425.04311215,  17096.63644113,  94505.16050372, 150087.0406423 ,\n",
       "       143479.49586521, 142768.87368082, 158801.66637201, 142618.15360994,\n",
       "       142596.36136811, 148444.2825485 , 117067.02828856, 143577.81000759,\n",
       "       128806.6332185 , 105973.17822364, 162289.48751943, 138237.02258374,\n",
       "       141873.53552831, -10874.09764333, 162441.88870611,  31715.72806971,\n",
       "       152888.39315356, 149201.41560329, 161820.59866596,  84104.24497314,\n",
       "        77618.70154944,  95454.83266944, 149179.48638166, 138290.33885994,\n",
       "       142642.43639368, 143535.53305846, 111635.60694603, 142565.22959408,\n",
       "        40918.68665835,  66055.8935197 , 150113.19133248, 138296.7644581 ,\n",
       "       143553.40269675, 149163.13908712, 163040.95459135, 149163.13908712,\n",
       "       161545.49207328, 142599.47454552, 162494.00578638, 114800.18382217,\n",
       "       149195.18924848, 132233.23273783, 142667.96444838, 150075.21056817,\n",
       "       142617.90455574,  61640.54796015,  88269.37077107, 112369.59556472,\n",
       "        90209.23392104, 138276.27975079, 139163.27458786, 138256.91578734,\n",
       "       144209.51145098,  99674.46822302, 139216.21977331, 149194.23972937,\n",
       "       149151.60476484,  23724.48482068, 109415.49978472, 104260.42598108,\n",
       "        79422.61815734, 138240.72726485,  89441.25072596, 150105.47065252,\n",
       "       149186.47235175, 141172.50193032,  74919.50050809, 139205.42700989,\n",
       "       143579.74017758,  73893.36494515, 149151.60476484, 184905.74579571,\n",
       "        79801.26843003, 161071.43534532,  84772.52323642,  42400.03714504,\n",
       "       149194.23972937, 131325.71018889, 138303.98702967, 129553.75130102,\n",
       "       130923.55652013,  67373.42272337, 150681.31223433,  84096.15071189,\n",
       "        94805.33905967, 142590.13501331, 149251.22644173, 143602.15505488,\n",
       "        56200.98769662, 142573.94649081,  83224.18845266, 142590.13501331,\n",
       "       154561.76886578, 161148.20630008, 139217.25708403, 142565.22959408,\n",
       "       101132.56413065, 143572.8911873 , 150090.77645518, 153692.45294461,\n",
       "       166362.15447599, 161543.00153136, 161592.18973433])"
      ]
     },
     "execution_count": 21,
     "metadata": {},
     "output_type": "execute_result"
    }
   ],
   "source": [
    "prediction"
   ]
  },
  {
   "cell_type": "code",
   "execution_count": 22,
   "id": "6d22837f",
   "metadata": {},
   "outputs": [
    {
     "name": "stdout",
     "output_type": "stream",
     "text": [
      "MSC is: 3031935834.457652\n"
     ]
    }
   ],
   "source": [
    "from sklearn.metrics import mean_squared_error\n",
    "print('MSC is:',mean_squared_error(y_test,prediction))"
   ]
  },
  {
   "cell_type": "code",
   "execution_count": null,
   "id": "6d664a0e",
   "metadata": {},
   "outputs": [],
   "source": []
  }
 ],
 "metadata": {
  "kernelspec": {
   "display_name": "Python 3 (ipykernel)",
   "language": "python",
   "name": "python3"
  },
  "language_info": {
   "codemirror_mode": {
    "name": "ipython",
    "version": 3
   },
   "file_extension": ".py",
   "mimetype": "text/x-python",
   "name": "python",
   "nbconvert_exporter": "python",
   "pygments_lexer": "ipython3",
   "version": "3.9.12"
  }
 },
 "nbformat": 4,
 "nbformat_minor": 5
}
