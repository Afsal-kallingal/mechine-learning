{
 "cells": [
  {
   "cell_type": "code",
   "execution_count": null,
   "id": "1eaade5b",
   "metadata": {},
   "outputs": [],
   "source": []
  },
  {
   "cell_type": "code",
   "execution_count": 1,
   "id": "42c1ca89",
   "metadata": {},
   "outputs": [],
   "source": [
    "import pandas as pd\n",
    "import numpy as np\n",
    "import matplotlib.pyplot as plt\n",
    "import seaborn as sns\n",
    "from sklearn import metrics"
   ]
  },
  {
   "cell_type": "code",
   "execution_count": 2,
   "id": "638eb462",
   "metadata": {},
   "outputs": [],
   "source": [
    "data=pd.read_csv('D:/afsal/dataset/salaries.csv')"
   ]
  },
  {
   "cell_type": "code",
   "execution_count": 3,
   "id": "148299fa",
   "metadata": {},
   "outputs": [
    {
     "data": {
      "text/html": [
       "<div>\n",
       "<style scoped>\n",
       "    .dataframe tbody tr th:only-of-type {\n",
       "        vertical-align: middle;\n",
       "    }\n",
       "\n",
       "    .dataframe tbody tr th {\n",
       "        vertical-align: top;\n",
       "    }\n",
       "\n",
       "    .dataframe thead th {\n",
       "        text-align: right;\n",
       "    }\n",
       "</style>\n",
       "<table border=\"1\" class=\"dataframe\">\n",
       "  <thead>\n",
       "    <tr style=\"text-align: right;\">\n",
       "      <th></th>\n",
       "      <th>work_year</th>\n",
       "      <th>experience_level</th>\n",
       "      <th>employment_type</th>\n",
       "      <th>job_title</th>\n",
       "      <th>salary</th>\n",
       "      <th>salary_currency</th>\n",
       "      <th>salary_in_usd</th>\n",
       "      <th>employee_residence</th>\n",
       "      <th>remote_ratio</th>\n",
       "      <th>company_location</th>\n",
       "      <th>company_size</th>\n",
       "    </tr>\n",
       "  </thead>\n",
       "  <tbody>\n",
       "    <tr>\n",
       "      <th>0</th>\n",
       "      <td>2022</td>\n",
       "      <td>MI</td>\n",
       "      <td>FT</td>\n",
       "      <td>Machine Learning Engineer</td>\n",
       "      <td>130000</td>\n",
       "      <td>USD</td>\n",
       "      <td>130000</td>\n",
       "      <td>US</td>\n",
       "      <td>0</td>\n",
       "      <td>US</td>\n",
       "      <td>M</td>\n",
       "    </tr>\n",
       "    <tr>\n",
       "      <th>1</th>\n",
       "      <td>2022</td>\n",
       "      <td>MI</td>\n",
       "      <td>FT</td>\n",
       "      <td>Machine Learning Engineer</td>\n",
       "      <td>90000</td>\n",
       "      <td>USD</td>\n",
       "      <td>90000</td>\n",
       "      <td>US</td>\n",
       "      <td>0</td>\n",
       "      <td>US</td>\n",
       "      <td>M</td>\n",
       "    </tr>\n",
       "    <tr>\n",
       "      <th>2</th>\n",
       "      <td>2022</td>\n",
       "      <td>MI</td>\n",
       "      <td>FT</td>\n",
       "      <td>Data Scientist</td>\n",
       "      <td>120000</td>\n",
       "      <td>USD</td>\n",
       "      <td>120000</td>\n",
       "      <td>US</td>\n",
       "      <td>100</td>\n",
       "      <td>US</td>\n",
       "      <td>M</td>\n",
       "    </tr>\n",
       "    <tr>\n",
       "      <th>3</th>\n",
       "      <td>2022</td>\n",
       "      <td>MI</td>\n",
       "      <td>FT</td>\n",
       "      <td>Data Scientist</td>\n",
       "      <td>100000</td>\n",
       "      <td>USD</td>\n",
       "      <td>100000</td>\n",
       "      <td>US</td>\n",
       "      <td>100</td>\n",
       "      <td>US</td>\n",
       "      <td>M</td>\n",
       "    </tr>\n",
       "    <tr>\n",
       "      <th>4</th>\n",
       "      <td>2022</td>\n",
       "      <td>MI</td>\n",
       "      <td>FT</td>\n",
       "      <td>Data Scientist</td>\n",
       "      <td>85000</td>\n",
       "      <td>USD</td>\n",
       "      <td>85000</td>\n",
       "      <td>US</td>\n",
       "      <td>100</td>\n",
       "      <td>US</td>\n",
       "      <td>M</td>\n",
       "    </tr>\n",
       "  </tbody>\n",
       "</table>\n",
       "</div>"
      ],
      "text/plain": [
       "   work_year experience_level employment_type                  job_title  \\\n",
       "0       2022               MI              FT  Machine Learning Engineer   \n",
       "1       2022               MI              FT  Machine Learning Engineer   \n",
       "2       2022               MI              FT             Data Scientist   \n",
       "3       2022               MI              FT             Data Scientist   \n",
       "4       2022               MI              FT             Data Scientist   \n",
       "\n",
       "   salary salary_currency  salary_in_usd employee_residence  remote_ratio  \\\n",
       "0  130000             USD         130000                 US             0   \n",
       "1   90000             USD          90000                 US             0   \n",
       "2  120000             USD         120000                 US           100   \n",
       "3  100000             USD         100000                 US           100   \n",
       "4   85000             USD          85000                 US           100   \n",
       "\n",
       "  company_location company_size  \n",
       "0               US            M  \n",
       "1               US            M  \n",
       "2               US            M  \n",
       "3               US            M  \n",
       "4               US            M  "
      ]
     },
     "execution_count": 3,
     "metadata": {},
     "output_type": "execute_result"
    }
   ],
   "source": [
    "data.head()"
   ]
  },
  {
   "cell_type": "code",
   "execution_count": 4,
   "id": "8e5b59d2",
   "metadata": {},
   "outputs": [],
   "source": [
    "data=data.drop(['work_year','employment_type'],axis=1)"
   ]
  },
  {
   "cell_type": "code",
   "execution_count": 5,
   "id": "5f03efe0",
   "metadata": {},
   "outputs": [
    {
     "data": {
      "text/html": [
       "<div>\n",
       "<style scoped>\n",
       "    .dataframe tbody tr th:only-of-type {\n",
       "        vertical-align: middle;\n",
       "    }\n",
       "\n",
       "    .dataframe tbody tr th {\n",
       "        vertical-align: top;\n",
       "    }\n",
       "\n",
       "    .dataframe thead th {\n",
       "        text-align: right;\n",
       "    }\n",
       "</style>\n",
       "<table border=\"1\" class=\"dataframe\">\n",
       "  <thead>\n",
       "    <tr style=\"text-align: right;\">\n",
       "      <th></th>\n",
       "      <th>experience_level</th>\n",
       "      <th>job_title</th>\n",
       "      <th>salary</th>\n",
       "      <th>salary_currency</th>\n",
       "      <th>salary_in_usd</th>\n",
       "      <th>employee_residence</th>\n",
       "      <th>remote_ratio</th>\n",
       "      <th>company_location</th>\n",
       "      <th>company_size</th>\n",
       "    </tr>\n",
       "  </thead>\n",
       "  <tbody>\n",
       "    <tr>\n",
       "      <th>0</th>\n",
       "      <td>MI</td>\n",
       "      <td>Machine Learning Engineer</td>\n",
       "      <td>130000</td>\n",
       "      <td>USD</td>\n",
       "      <td>130000</td>\n",
       "      <td>US</td>\n",
       "      <td>0</td>\n",
       "      <td>US</td>\n",
       "      <td>M</td>\n",
       "    </tr>\n",
       "    <tr>\n",
       "      <th>1</th>\n",
       "      <td>MI</td>\n",
       "      <td>Machine Learning Engineer</td>\n",
       "      <td>90000</td>\n",
       "      <td>USD</td>\n",
       "      <td>90000</td>\n",
       "      <td>US</td>\n",
       "      <td>0</td>\n",
       "      <td>US</td>\n",
       "      <td>M</td>\n",
       "    </tr>\n",
       "    <tr>\n",
       "      <th>2</th>\n",
       "      <td>MI</td>\n",
       "      <td>Data Scientist</td>\n",
       "      <td>120000</td>\n",
       "      <td>USD</td>\n",
       "      <td>120000</td>\n",
       "      <td>US</td>\n",
       "      <td>100</td>\n",
       "      <td>US</td>\n",
       "      <td>M</td>\n",
       "    </tr>\n",
       "    <tr>\n",
       "      <th>3</th>\n",
       "      <td>MI</td>\n",
       "      <td>Data Scientist</td>\n",
       "      <td>100000</td>\n",
       "      <td>USD</td>\n",
       "      <td>100000</td>\n",
       "      <td>US</td>\n",
       "      <td>100</td>\n",
       "      <td>US</td>\n",
       "      <td>M</td>\n",
       "    </tr>\n",
       "    <tr>\n",
       "      <th>4</th>\n",
       "      <td>MI</td>\n",
       "      <td>Data Scientist</td>\n",
       "      <td>85000</td>\n",
       "      <td>USD</td>\n",
       "      <td>85000</td>\n",
       "      <td>US</td>\n",
       "      <td>100</td>\n",
       "      <td>US</td>\n",
       "      <td>M</td>\n",
       "    </tr>\n",
       "    <tr>\n",
       "      <th>...</th>\n",
       "      <td>...</td>\n",
       "      <td>...</td>\n",
       "      <td>...</td>\n",
       "      <td>...</td>\n",
       "      <td>...</td>\n",
       "      <td>...</td>\n",
       "      <td>...</td>\n",
       "      <td>...</td>\n",
       "      <td>...</td>\n",
       "    </tr>\n",
       "    <tr>\n",
       "      <th>1327</th>\n",
       "      <td>SE</td>\n",
       "      <td>Data Scientist</td>\n",
       "      <td>412000</td>\n",
       "      <td>USD</td>\n",
       "      <td>412000</td>\n",
       "      <td>US</td>\n",
       "      <td>100</td>\n",
       "      <td>US</td>\n",
       "      <td>L</td>\n",
       "    </tr>\n",
       "    <tr>\n",
       "      <th>1328</th>\n",
       "      <td>MI</td>\n",
       "      <td>Principal Data Scientist</td>\n",
       "      <td>151000</td>\n",
       "      <td>USD</td>\n",
       "      <td>151000</td>\n",
       "      <td>US</td>\n",
       "      <td>100</td>\n",
       "      <td>US</td>\n",
       "      <td>L</td>\n",
       "    </tr>\n",
       "    <tr>\n",
       "      <th>1329</th>\n",
       "      <td>EN</td>\n",
       "      <td>Data Scientist</td>\n",
       "      <td>105000</td>\n",
       "      <td>USD</td>\n",
       "      <td>105000</td>\n",
       "      <td>US</td>\n",
       "      <td>100</td>\n",
       "      <td>US</td>\n",
       "      <td>S</td>\n",
       "    </tr>\n",
       "    <tr>\n",
       "      <th>1330</th>\n",
       "      <td>EN</td>\n",
       "      <td>Business Data Analyst</td>\n",
       "      <td>100000</td>\n",
       "      <td>USD</td>\n",
       "      <td>100000</td>\n",
       "      <td>US</td>\n",
       "      <td>100</td>\n",
       "      <td>US</td>\n",
       "      <td>L</td>\n",
       "    </tr>\n",
       "    <tr>\n",
       "      <th>1331</th>\n",
       "      <td>SE</td>\n",
       "      <td>Data Science Manager</td>\n",
       "      <td>7000000</td>\n",
       "      <td>INR</td>\n",
       "      <td>94665</td>\n",
       "      <td>IN</td>\n",
       "      <td>50</td>\n",
       "      <td>IN</td>\n",
       "      <td>L</td>\n",
       "    </tr>\n",
       "  </tbody>\n",
       "</table>\n",
       "<p>1332 rows × 9 columns</p>\n",
       "</div>"
      ],
      "text/plain": [
       "     experience_level                  job_title   salary salary_currency  \\\n",
       "0                  MI  Machine Learning Engineer   130000             USD   \n",
       "1                  MI  Machine Learning Engineer    90000             USD   \n",
       "2                  MI             Data Scientist   120000             USD   \n",
       "3                  MI             Data Scientist   100000             USD   \n",
       "4                  MI             Data Scientist    85000             USD   \n",
       "...               ...                        ...      ...             ...   \n",
       "1327               SE             Data Scientist   412000             USD   \n",
       "1328               MI   Principal Data Scientist   151000             USD   \n",
       "1329               EN             Data Scientist   105000             USD   \n",
       "1330               EN      Business Data Analyst   100000             USD   \n",
       "1331               SE       Data Science Manager  7000000             INR   \n",
       "\n",
       "      salary_in_usd employee_residence  remote_ratio company_location  \\\n",
       "0            130000                 US             0               US   \n",
       "1             90000                 US             0               US   \n",
       "2            120000                 US           100               US   \n",
       "3            100000                 US           100               US   \n",
       "4             85000                 US           100               US   \n",
       "...             ...                ...           ...              ...   \n",
       "1327         412000                 US           100               US   \n",
       "1328         151000                 US           100               US   \n",
       "1329         105000                 US           100               US   \n",
       "1330         100000                 US           100               US   \n",
       "1331          94665                 IN            50               IN   \n",
       "\n",
       "     company_size  \n",
       "0               M  \n",
       "1               M  \n",
       "2               M  \n",
       "3               M  \n",
       "4               M  \n",
       "...           ...  \n",
       "1327            L  \n",
       "1328            L  \n",
       "1329            S  \n",
       "1330            L  \n",
       "1331            L  \n",
       "\n",
       "[1332 rows x 9 columns]"
      ]
     },
     "execution_count": 5,
     "metadata": {},
     "output_type": "execute_result"
    }
   ],
   "source": [
    "data"
   ]
  },
  {
   "cell_type": "code",
   "execution_count": 6,
   "id": "51af6c05",
   "metadata": {},
   "outputs": [
    {
     "data": {
      "text/plain": [
       "array([17,  8,  9,  2, 11,  0,  6,  1,  7, 15,  5, 14,  3, 12, 10, 13, 16,\n",
       "        4])"
      ]
     },
     "execution_count": 6,
     "metadata": {},
     "output_type": "execute_result"
    }
   ],
   "source": [
    "from sklearn import preprocessing\n",
    "\n",
    "# label_encoder object knows how to understand word labels.\n",
    "label_encoder = preprocessing.LabelEncoder()\n",
    "\n",
    "# Encode labels in column 'species'.\n",
    "data['salary_currency']= label_encoder.fit_transform(data['salary_currency'])\n",
    "data['salary_currency'].unique()\n"
   ]
  },
  {
   "cell_type": "code",
   "execution_count": 21,
   "id": "f5b59997",
   "metadata": {},
   "outputs": [
    {
     "data": {
      "text/plain": [
       "array([2, 3, 1, 0], dtype=int64)"
      ]
     },
     "execution_count": 21,
     "metadata": {},
     "output_type": "execute_result"
    }
   ],
   "source": [
    "data['experience_level']= label_encoder.fit_transform(data['experience_level'])\n",
    "data['experience_level'].unique()\n"
   ]
  },
  {
   "cell_type": "code",
   "execution_count": 22,
   "id": "41950ca7",
   "metadata": {},
   "outputs": [
    {
     "data": {
      "text/plain": [
       "array([62, 22, 25, 24,  9, 12, 43,  8, 33,  3, 52, 16, 45, 15, 14, 60, 11,\n",
       "       51, 23, 58, 46, 26, 17,  7, 48,  4, 18,  1,  5,  2, 56, 21, 31, 36,\n",
       "        0, 32, 57, 44, 38, 20, 49, 50, 28, 59, 10, 55, 19, 63, 34, 61,  6,\n",
       "       30, 37, 54, 39, 13, 47, 35, 53, 27, 41, 40, 29, 42], dtype=int64)"
      ]
     },
     "execution_count": 22,
     "metadata": {},
     "output_type": "execute_result"
    }
   ],
   "source": [
    "data['employee_residence']= label_encoder.fit_transform(data['employee_residence'])\n",
    "data['employee_residence'].unique()\n"
   ]
  },
  {
   "cell_type": "code",
   "execution_count": 23,
   "id": "8fb53ad0",
   "metadata": {},
   "outputs": [
    {
     "data": {
      "text/plain": [
       "array([57, 20, 23, 22,  9, 40,  8, 31,  5, 52, 49, 15, 42, 14, 55, 48, 21,\n",
       "        3, 54, 43, 24, 16,  7, 45,  1,  2,  6, 28,  4, 19, 34,  0, 29, 37,\n",
       "       53, 41, 18, 47, 25, 10, 46, 35, 17, 50, 32, 51, 56, 12, 27, 36, 13,\n",
       "       44, 33, 11, 38, 58, 26, 30, 39], dtype=int64)"
      ]
     },
     "execution_count": 23,
     "metadata": {},
     "output_type": "execute_result"
    }
   ],
   "source": [
    "from sklearn import preprocessing\n",
    "\n",
    "# label_encoder object knows how to understand word labels.\n",
    "label_encoder = preprocessing.LabelEncoder()\n",
    "\n",
    "# Encode labels in column 'species'.\n",
    "data['company_location']= label_encoder.fit_transform(data['company_location'])\n",
    "data['company_location'].unique()"
   ]
  },
  {
   "cell_type": "code",
   "execution_count": 24,
   "id": "4f7d197b",
   "metadata": {},
   "outputs": [
    {
     "data": {
      "text/html": [
       "<div>\n",
       "<style scoped>\n",
       "    .dataframe tbody tr th:only-of-type {\n",
       "        vertical-align: middle;\n",
       "    }\n",
       "\n",
       "    .dataframe tbody tr th {\n",
       "        vertical-align: top;\n",
       "    }\n",
       "\n",
       "    .dataframe thead th {\n",
       "        text-align: right;\n",
       "    }\n",
       "</style>\n",
       "<table border=\"1\" class=\"dataframe\">\n",
       "  <thead>\n",
       "    <tr style=\"text-align: right;\">\n",
       "      <th></th>\n",
       "      <th>experience_level</th>\n",
       "      <th>job_title</th>\n",
       "      <th>salary</th>\n",
       "      <th>salary_currency</th>\n",
       "      <th>salary_in_usd</th>\n",
       "      <th>employee_residence</th>\n",
       "      <th>remote_ratio</th>\n",
       "      <th>company_location</th>\n",
       "      <th>company_size</th>\n",
       "    </tr>\n",
       "  </thead>\n",
       "  <tbody>\n",
       "    <tr>\n",
       "      <th>0</th>\n",
       "      <td>2</td>\n",
       "      <td>47</td>\n",
       "      <td>130000</td>\n",
       "      <td>17</td>\n",
       "      <td>130000</td>\n",
       "      <td>62</td>\n",
       "      <td>0</td>\n",
       "      <td>57</td>\n",
       "      <td>1</td>\n",
       "    </tr>\n",
       "    <tr>\n",
       "      <th>1</th>\n",
       "      <td>2</td>\n",
       "      <td>47</td>\n",
       "      <td>90000</td>\n",
       "      <td>17</td>\n",
       "      <td>90000</td>\n",
       "      <td>62</td>\n",
       "      <td>0</td>\n",
       "      <td>57</td>\n",
       "      <td>1</td>\n",
       "    </tr>\n",
       "    <tr>\n",
       "      <th>2</th>\n",
       "      <td>2</td>\n",
       "      <td>30</td>\n",
       "      <td>120000</td>\n",
       "      <td>17</td>\n",
       "      <td>120000</td>\n",
       "      <td>62</td>\n",
       "      <td>100</td>\n",
       "      <td>57</td>\n",
       "      <td>1</td>\n",
       "    </tr>\n",
       "    <tr>\n",
       "      <th>3</th>\n",
       "      <td>2</td>\n",
       "      <td>30</td>\n",
       "      <td>100000</td>\n",
       "      <td>17</td>\n",
       "      <td>100000</td>\n",
       "      <td>62</td>\n",
       "      <td>100</td>\n",
       "      <td>57</td>\n",
       "      <td>1</td>\n",
       "    </tr>\n",
       "    <tr>\n",
       "      <th>4</th>\n",
       "      <td>2</td>\n",
       "      <td>30</td>\n",
       "      <td>85000</td>\n",
       "      <td>17</td>\n",
       "      <td>85000</td>\n",
       "      <td>62</td>\n",
       "      <td>100</td>\n",
       "      <td>57</td>\n",
       "      <td>1</td>\n",
       "    </tr>\n",
       "  </tbody>\n",
       "</table>\n",
       "</div>"
      ],
      "text/plain": [
       "   experience_level  job_title  salary  salary_currency  salary_in_usd  \\\n",
       "0                 2         47  130000               17         130000   \n",
       "1                 2         47   90000               17          90000   \n",
       "2                 2         30  120000               17         120000   \n",
       "3                 2         30  100000               17         100000   \n",
       "4                 2         30   85000               17          85000   \n",
       "\n",
       "   employee_residence  remote_ratio  company_location  company_size  \n",
       "0                  62             0                57             1  \n",
       "1                  62             0                57             1  \n",
       "2                  62           100                57             1  \n",
       "3                  62           100                57             1  \n",
       "4                  62           100                57             1  "
      ]
     },
     "execution_count": 24,
     "metadata": {},
     "output_type": "execute_result"
    }
   ],
   "source": [
    "data.head()"
   ]
  },
  {
   "cell_type": "code",
   "execution_count": 25,
   "id": "f6bc00b8",
   "metadata": {},
   "outputs": [
    {
     "data": {
      "text/plain": [
       "array([47, 30, 21, 38, 15,  6,  2, 61, 24, 45, 20, 25,  0, 52, 28, 54, 60,\n",
       "       26, 23,  7,  9, 56, 49,  5, 43, 44, 53, 62, 17, 35,  1, 31, 29, 32,\n",
       "       10,  4, 50, 51, 46, 22, 34, 37, 14, 16, 59, 48,  3, 11, 19, 42, 40,\n",
       "       27, 39, 13, 55, 18, 58, 57, 41, 33, 12,  8, 63, 36], dtype=int64)"
      ]
     },
     "execution_count": 25,
     "metadata": {},
     "output_type": "execute_result"
    }
   ],
   "source": [
    "data['job_title']= label_encoder.fit_transform(data['job_title'])\n",
    "data['job_title'].unique()"
   ]
  },
  {
   "cell_type": "code",
   "execution_count": 26,
   "id": "4cc25cb4",
   "metadata": {},
   "outputs": [
    {
     "data": {
      "text/plain": [
       "array([1, 0, 2], dtype=int64)"
      ]
     },
     "execution_count": 26,
     "metadata": {},
     "output_type": "execute_result"
    }
   ],
   "source": [
    "data['company_size']= label_encoder.fit_transform(data['company_size'])\n",
    "data['company_size'].unique()"
   ]
  },
  {
   "cell_type": "code",
   "execution_count": 27,
   "id": "3ea0acd7",
   "metadata": {},
   "outputs": [
    {
     "data": {
      "text/html": [
       "<div>\n",
       "<style scoped>\n",
       "    .dataframe tbody tr th:only-of-type {\n",
       "        vertical-align: middle;\n",
       "    }\n",
       "\n",
       "    .dataframe tbody tr th {\n",
       "        vertical-align: top;\n",
       "    }\n",
       "\n",
       "    .dataframe thead th {\n",
       "        text-align: right;\n",
       "    }\n",
       "</style>\n",
       "<table border=\"1\" class=\"dataframe\">\n",
       "  <thead>\n",
       "    <tr style=\"text-align: right;\">\n",
       "      <th></th>\n",
       "      <th>experience_level</th>\n",
       "      <th>job_title</th>\n",
       "      <th>salary</th>\n",
       "      <th>salary_currency</th>\n",
       "      <th>salary_in_usd</th>\n",
       "      <th>employee_residence</th>\n",
       "      <th>remote_ratio</th>\n",
       "      <th>company_location</th>\n",
       "      <th>company_size</th>\n",
       "    </tr>\n",
       "  </thead>\n",
       "  <tbody>\n",
       "    <tr>\n",
       "      <th>0</th>\n",
       "      <td>2</td>\n",
       "      <td>47</td>\n",
       "      <td>130000</td>\n",
       "      <td>17</td>\n",
       "      <td>130000</td>\n",
       "      <td>62</td>\n",
       "      <td>0</td>\n",
       "      <td>57</td>\n",
       "      <td>1</td>\n",
       "    </tr>\n",
       "    <tr>\n",
       "      <th>1</th>\n",
       "      <td>2</td>\n",
       "      <td>47</td>\n",
       "      <td>90000</td>\n",
       "      <td>17</td>\n",
       "      <td>90000</td>\n",
       "      <td>62</td>\n",
       "      <td>0</td>\n",
       "      <td>57</td>\n",
       "      <td>1</td>\n",
       "    </tr>\n",
       "    <tr>\n",
       "      <th>2</th>\n",
       "      <td>2</td>\n",
       "      <td>30</td>\n",
       "      <td>120000</td>\n",
       "      <td>17</td>\n",
       "      <td>120000</td>\n",
       "      <td>62</td>\n",
       "      <td>100</td>\n",
       "      <td>57</td>\n",
       "      <td>1</td>\n",
       "    </tr>\n",
       "    <tr>\n",
       "      <th>3</th>\n",
       "      <td>2</td>\n",
       "      <td>30</td>\n",
       "      <td>100000</td>\n",
       "      <td>17</td>\n",
       "      <td>100000</td>\n",
       "      <td>62</td>\n",
       "      <td>100</td>\n",
       "      <td>57</td>\n",
       "      <td>1</td>\n",
       "    </tr>\n",
       "    <tr>\n",
       "      <th>4</th>\n",
       "      <td>2</td>\n",
       "      <td>30</td>\n",
       "      <td>85000</td>\n",
       "      <td>17</td>\n",
       "      <td>85000</td>\n",
       "      <td>62</td>\n",
       "      <td>100</td>\n",
       "      <td>57</td>\n",
       "      <td>1</td>\n",
       "    </tr>\n",
       "  </tbody>\n",
       "</table>\n",
       "</div>"
      ],
      "text/plain": [
       "   experience_level  job_title  salary  salary_currency  salary_in_usd  \\\n",
       "0                 2         47  130000               17         130000   \n",
       "1                 2         47   90000               17          90000   \n",
       "2                 2         30  120000               17         120000   \n",
       "3                 2         30  100000               17         100000   \n",
       "4                 2         30   85000               17          85000   \n",
       "\n",
       "   employee_residence  remote_ratio  company_location  company_size  \n",
       "0                  62             0                57             1  \n",
       "1                  62             0                57             1  \n",
       "2                  62           100                57             1  \n",
       "3                  62           100                57             1  \n",
       "4                  62           100                57             1  "
      ]
     },
     "execution_count": 27,
     "metadata": {},
     "output_type": "execute_result"
    }
   ],
   "source": [
    "data.head()"
   ]
  },
  {
   "cell_type": "code",
   "execution_count": 28,
   "id": "e1875757",
   "metadata": {},
   "outputs": [],
   "source": [
    "y=data['salary']\n",
    "x=data.drop(['salary'],axis=1)"
   ]
  },
  {
   "cell_type": "code",
   "execution_count": 29,
   "id": "145265bf",
   "metadata": {},
   "outputs": [],
   "source": [
    "from sklearn.model_selection import train_test_split\n",
    "x_train,x_test,y_train,y_test=train_test_split(x,y,random_state=42,test_size=0.25)"
   ]
  },
  {
   "cell_type": "code",
   "execution_count": 30,
   "id": "008e78b9",
   "metadata": {},
   "outputs": [],
   "source": [
    "from sklearn.ensemble import RandomForestClassifier"
   ]
  },
  {
   "cell_type": "code",
   "execution_count": 31,
   "id": "1b2dab4c",
   "metadata": {},
   "outputs": [],
   "source": [
    "clf=RandomForestClassifier(n_estimators=100)\n",
    "\n",
    "#Train the model using the training sets y_pred=clf.predict(X_test)\n",
    "clf.fit(x_train,y_train)\n",
    "\n",
    "y_pred=clf.predict(x_test)"
   ]
  },
  {
   "cell_type": "code",
   "execution_count": 32,
   "id": "a182f3ac",
   "metadata": {},
   "outputs": [
    {
     "data": {
      "text/plain": [
       "array([ 160080,  116100,  152000,  210000,  300000,  141300,  144000,\n",
       "        200000,  160000,  160000,  178800,  207000,   60000,  145000,\n",
       "         63000,  200000,   38000,  120000,  150000,  170000,  110000,\n",
       "        144100,   40000,   63000,   62000,   99000,   40000,   63000,\n",
       "        135000,  126500,   85000,   40000,  135000,  185000,  148800,\n",
       "        160000,  150000,  113000,  135000,  164000,  180000,  160000,\n",
       "        195400,  130000,  210000,   83000,  200000,  128000,  100000,\n",
       "       1000000,  135000,   34000,  106260,  155000,   48000,  110600,\n",
       "        197000,   65000,  140250,  109280,   60000,  130000,   65000,\n",
       "        100000,   60000,  179775,  165400,   63000,  175000,  165000,\n",
       "        225000,   73000,  150000,  180000,  140000,   50000,  168000,\n",
       "         55000,  250000,   48000,  185900,  224000,  140400,  250000,\n",
       "         35000,   20000,  115000,   20000,  175000,   60000,   40900,\n",
       "         60000,  100000,   48000,  164996,  100000,  120000,  197000,\n",
       "         75000,  159200,   63000,  100000,  180000,  110600,  120000,\n",
       "         80000,   99100,  191475,   74000,  240000,  243900,   75000,\n",
       "        104000,   70000,   20000,  200000,  230000, 1250000,  131300,\n",
       "         90000,  177600, 1600000,  191475,  155000,  100000,   48000,\n",
       "        154545,  155000,  120000,  123400,   54000,   85000,   90320,\n",
       "        154545,   85000,   70000,   90000,  260000,   80000,  700000,\n",
       "         90000, 3000000,  210000,  160000,   30000,  129300,  179775,\n",
       "         97000,  250000,   62500,  240000,   42000,  195400,  100000,\n",
       "         22000,  140000,  150000,  205600,   63000,  141525,  179775,\n",
       "         30000, 2200000,  185900,  250000,  225000,  150000,  165400,\n",
       "        200000,  179775,  120000,  102100,  110000, 1450000,  186000,\n",
       "        170000,  190000,  180000,  204500,   55000,   63000,  128000,\n",
       "        180000,   35000,   50000,  110000,  165000,   90320,  126000,\n",
       "        170000,  150000,  243900,  100000,   28500,  145300,   81666,\n",
       "        141300,  191475,  148800,  191475,  210000,  200000,  164996,\n",
       "        270000,  140000,  120000,   85000,  205300,  165400,  100000,\n",
       "       7000000,  120000,   75000,  112900,  169000,  150000,   40000,\n",
       "        100000,   90320,  141525,  210000,   56000,   50000,   66000,\n",
       "         45000,  170000,   80000,  156400,  153600,  150260,   59000,\n",
       "         99000,   99100,   85000,  210000,  144000,   50000,  236900,\n",
       "         45000,  125000,  141525,  120000,   69000,  135000,  191475,\n",
       "         45000,   70000,   48000,  157000,  210000,   38000,   63000,\n",
       "        121000,  243900,   80000,  210000,  132100,   92000,   90320,\n",
       "        243900,   80000,  110000,  180000,  245000,  189650,  210000,\n",
       "        130000,  102000,  170000,  170000,  140000,  129300,  260000,\n",
       "         55000,  185000,   85000,   33000,  110000,   63000,  207000,\n",
       "        180000,  193900,   50000,   45000,  225000,  135000,  205600,\n",
       "        175000,  135000,   73000,   65000,  110000,  160080,   98200,\n",
       "        150000,   50000,   84000,  200000,  152000,  130000,  100000,\n",
       "        165000,   88100,   38000,   66500,   61300,  183600,   80000,\n",
       "        175100,  203500,   90000,  130000,   50000,  105000,  150000,\n",
       "         75000,   60000,  141525,   50000,  138938,  160000,  157000,\n",
       "        100000,  141525,  191475,   62000,   40000,   60000,  405000,\n",
       "        160000,   98000,   60000,   10000], dtype=int64)"
      ]
     },
     "execution_count": 32,
     "metadata": {},
     "output_type": "execute_result"
    }
   ],
   "source": [
    "y_pred"
   ]
  },
  {
   "cell_type": "code",
   "execution_count": 33,
   "id": "382123b9",
   "metadata": {},
   "outputs": [
    {
     "name": "stdout",
     "output_type": "stream",
     "text": [
      "Accuracy: 0.36936936936936937\n"
     ]
    }
   ],
   "source": [
    "print(\"Accuracy:\",metrics.accuracy_score(y_test, y_pred))"
   ]
  },
  {
   "cell_type": "code",
   "execution_count": 34,
   "id": "ea9c2a08",
   "metadata": {},
   "outputs": [],
   "source": [
    "from sklearn.tree import DecisionTreeClassifier\n",
    "clf = DecisionTreeClassifier(criterion=\"entropy\", max_depth=3)\n",
    "\n",
    "# Train Decision Tree Classifer\n",
    "clf = clf.fit(x_train,y_train)\n",
    "\n",
    "#Predict the response for test dataset\n",
    "y_pred = clf.predict(x_test)"
   ]
  },
  {
   "cell_type": "code",
   "execution_count": 35,
   "id": "f8b869b9",
   "metadata": {
    "scrolled": false
   },
   "outputs": [
    {
     "data": {
      "text/plain": [
       "array([150000, 100000, 200000, 200000, 200000, 130000, 150000, 191475,\n",
       "       150000, 150000, 191475, 200000,  50000, 150000,  80000, 200000,\n",
       "        50000, 100000, 150000, 150000, 100000, 130000,  50000,  50000,\n",
       "        80000, 100000,  30000,  50000, 130000, 100000, 100000,  50000,\n",
       "       130000, 191475, 150000, 150000, 150000, 100000, 130000, 100000,\n",
       "       191475, 150000, 200000, 130000, 200000,  80000, 200000, 130000,\n",
       "       100000,  30000, 130000,  30000, 100000, 150000,  50000, 100000,\n",
       "       200000,  50000, 130000, 100000,  50000, 130000,  50000,  80000,\n",
       "        50000, 191475, 150000,  50000, 191475, 150000, 200000,  50000,\n",
       "       150000, 191475, 150000,  50000, 150000,  50000, 200000,  50000,\n",
       "       191475, 150000, 130000, 200000,  30000, 100000, 100000,  30000,\n",
       "       191475,  80000,  30000,  50000, 100000,  50000, 130000,  50000,\n",
       "        30000, 200000,  80000, 150000,  50000, 100000, 191475, 100000,\n",
       "        50000,  80000, 100000, 191475,  80000, 200000, 200000,  80000,\n",
       "       100000,  80000,  30000, 200000, 200000,  30000, 130000, 130000,\n",
       "       191475,  30000, 200000, 150000, 100000,  50000, 150000, 150000,\n",
       "       100000, 100000,  80000,  80000,  80000, 150000, 130000,  80000,\n",
       "        50000, 200000,  80000,  30000, 100000,  30000, 200000, 200000,\n",
       "        50000, 130000, 200000,  80000, 200000,  50000,  30000,  50000,\n",
       "       200000, 100000,  30000, 130000, 150000, 200000,  50000, 130000,\n",
       "       200000,  30000,  80000, 191475, 200000, 200000, 150000, 150000,\n",
       "       200000, 191475, 100000, 100000, 100000,  30000, 191475, 191475,\n",
       "       191475,  50000, 200000,  50000,  50000, 130000, 191475,  30000,\n",
       "        50000, 100000, 150000,  80000, 100000, 150000,  30000, 200000,\n",
       "        80000,  30000, 150000,  80000, 130000, 191475, 150000, 191475,\n",
       "       200000, 200000, 150000, 200000, 130000, 100000,  80000, 200000,\n",
       "       150000, 100000,  80000, 100000,  80000, 100000, 150000, 150000,\n",
       "        30000, 100000,  80000, 130000, 200000,  50000,  50000, 100000,\n",
       "        50000, 150000,  80000, 150000, 150000, 150000,  50000,  80000,\n",
       "        80000, 100000, 200000, 150000,  50000, 200000,  50000, 150000,\n",
       "       130000, 100000,  50000, 150000, 200000,  50000,  80000,  50000,\n",
       "       191475, 200000,  50000,  50000, 130000, 200000, 130000, 200000,\n",
       "       130000,  80000,  80000, 200000, 100000, 100000, 191475, 200000,\n",
       "       191475, 200000, 130000,  30000, 191475, 150000, 130000, 130000,\n",
       "       200000,  50000, 191475,  80000,  30000, 100000,  50000, 200000,\n",
       "       191475, 200000,  50000,  50000, 200000, 130000, 200000, 191475,\n",
       "       130000,  30000,  80000, 100000, 150000,  80000, 150000,  50000,\n",
       "        50000, 200000, 150000, 130000, 100000, 150000,  80000,  50000,\n",
       "        50000,  80000, 191475, 100000, 191475, 200000,  80000, 130000,\n",
       "        50000, 100000, 150000,  80000,  50000, 130000,  30000, 130000,\n",
       "       150000, 150000, 100000, 130000, 191475,  80000,  50000,  50000,\n",
       "       200000, 150000,  80000,  80000,  30000], dtype=int64)"
      ]
     },
     "execution_count": 35,
     "metadata": {},
     "output_type": "execute_result"
    }
   ],
   "source": [
    "y_pred"
   ]
  },
  {
   "cell_type": "code",
   "execution_count": 36,
   "id": "95f1495b",
   "metadata": {},
   "outputs": [
    {
     "name": "stdout",
     "output_type": "stream",
     "text": [
      "Accuracy: 0.15315315315315314\n"
     ]
    }
   ],
   "source": [
    "print(\"Accuracy:\",metrics.accuracy_score(y_test, y_pred))"
   ]
  },
  {
   "cell_type": "code",
   "execution_count": 37,
   "id": "2a86a4db",
   "metadata": {},
   "outputs": [
    {
     "name": "stderr",
     "output_type": "stream",
     "text": [
      "C:\\Users\\afsal\\anaconda3\\lib\\site-packages\\sklearn\\linear_model\\_logistic.py:814: ConvergenceWarning: lbfgs failed to converge (status=1):\n",
      "STOP: TOTAL NO. of ITERATIONS REACHED LIMIT.\n",
      "\n",
      "Increase the number of iterations (max_iter) or scale the data as shown in:\n",
      "    https://scikit-learn.org/stable/modules/preprocessing.html\n",
      "Please also refer to the documentation for alternative solver options:\n",
      "    https://scikit-learn.org/stable/modules/linear_model.html#logistic-regression\n",
      "  n_iter_i = _check_optimize_result(\n"
     ]
    }
   ],
   "source": [
    "from sklearn import linear_model\n",
    "lr=linear_model.LogisticRegression()\n",
    "\n",
    "model=lr.fit(x_train,y_train)"
   ]
  },
  {
   "cell_type": "code",
   "execution_count": 38,
   "id": "b4148b88",
   "metadata": {},
   "outputs": [
    {
     "name": "stdout",
     "output_type": "stream",
     "text": [
      "[200000 200000 200000 200000 200000 200000 200000 200000 200000 200000\n",
      " 200000 200000 200000 200000 200000 200000 200000 200000 200000 200000\n",
      " 200000 200000 200000 200000 200000 200000 200000 200000 200000 200000\n",
      " 200000 200000 200000 200000 200000 200000 200000 200000 200000 200000\n",
      " 200000 200000 200000 200000 200000 200000 200000 200000 200000 200000\n",
      " 200000 200000 200000 200000 200000 200000 200000 200000 200000 200000\n",
      " 200000 200000 200000 200000 200000 200000 200000 200000 200000 200000\n",
      " 200000 200000 200000 200000 200000 200000 200000 200000 200000 200000\n",
      " 200000 200000 200000 200000 200000 200000 200000 200000 200000 200000\n",
      " 200000 200000 200000 200000 200000 200000 200000 200000 200000 200000\n",
      " 200000 200000 200000 200000 200000 200000 200000 200000 200000 200000\n",
      " 200000 200000 200000 200000 200000 200000 200000 200000 200000 200000\n",
      " 200000 200000 200000 200000 200000 200000 200000 200000 200000 200000\n",
      " 200000 200000 200000 200000 200000 200000 200000 200000 200000 200000\n",
      " 200000 200000 200000 200000 200000 200000 200000 200000 200000 200000\n",
      " 200000 200000 200000 200000 200000 200000 200000 200000 200000 200000\n",
      " 200000 200000 200000 200000 200000 200000 200000 200000 200000 200000\n",
      " 200000 200000 200000 200000 200000 200000 200000 200000 200000 200000\n",
      " 200000 200000 200000 200000 200000 200000 200000 200000 200000 200000\n",
      " 200000 200000 200000 200000 200000 200000 200000 200000 200000 200000\n",
      " 200000 200000 200000 200000 200000 200000 200000 200000 200000 200000\n",
      " 200000 200000 200000 200000 200000 200000 200000 200000 200000 200000\n",
      " 200000 200000 200000 200000 200000 200000 200000 200000 200000 200000\n",
      " 200000 200000 200000 200000 200000 200000 200000 200000 200000 200000\n",
      " 200000 200000 200000 200000 200000 200000 200000 200000 200000 200000\n",
      " 200000 200000 200000 200000 200000 200000 200000 200000 200000 200000\n",
      " 200000 200000 200000 200000 200000 200000 200000 200000 200000 200000\n",
      " 200000 200000 200000 200000 200000 200000 200000 200000 200000 200000\n",
      " 200000 200000 200000 200000 200000 200000 200000 200000 200000 200000\n",
      " 200000 200000 200000 200000 200000 200000 200000 200000 200000 200000\n",
      " 200000 200000 200000 200000 200000 200000 200000 200000 200000 200000\n",
      " 200000 200000 200000 200000 200000 200000 200000 200000 200000 200000\n",
      " 200000 200000 200000 200000 200000 200000 200000 200000 200000 200000\n",
      " 200000 200000 200000]\n"
     ]
    }
   ],
   "source": [
    "predictions=model.predict(x_test)\n",
    "print(predictions)"
   ]
  },
  {
   "cell_type": "code",
   "execution_count": 39,
   "id": "caec7e50",
   "metadata": {},
   "outputs": [
    {
     "name": "stdout",
     "output_type": "stream",
     "text": [
      "Accuracy: 0.024024024024024024\n"
     ]
    }
   ],
   "source": [
    "print(\"Accuracy:\",metrics.accuracy_score(y_test,predictions))"
   ]
  },
  {
   "cell_type": "code",
   "execution_count": 40,
   "id": "cbd94a75",
   "metadata": {},
   "outputs": [],
   "source": [
    "from sklearn import linear_model\n",
    "lr=linear_model.LinearRegression()\n",
    "\n",
    "model=lr.fit(x_train,y_train)"
   ]
  },
  {
   "cell_type": "code",
   "execution_count": 41,
   "id": "64cd865a",
   "metadata": {},
   "outputs": [],
   "source": [
    "predi=model.predict(x_test)"
   ]
  },
  {
   "cell_type": "code",
   "execution_count": 42,
   "id": "4b303f85",
   "metadata": {},
   "outputs": [
    {
     "data": {
      "text/plain": [
       "array([159252.21472633, 129420.2356253 , 232169.92361302, 214945.68272938,\n",
       "       129907.09892307, 164716.92740258, 175723.36171209, 122532.91273682,\n",
       "       143885.45743252, 233688.10203763, 201241.55831917, 162028.97433724,\n",
       "        89392.49674772, 147146.0258551 , 179793.79578862, 135168.87118281,\n",
       "       196156.25716029, 150344.64813638, 102207.00425395, 158165.35858547,\n",
       "       209346.16008542, 140994.34028038, 353438.201321  , 121553.04356129,\n",
       "       261332.9886786 , 154474.70147165, 217718.67543364, 173771.67442365,\n",
       "       149319.73813682, 132762.87802749, 262470.272228  , 232826.10885225,\n",
       "       155653.37744948, 137646.90318397, 228248.80189353, 316155.42051392,\n",
       "       119432.50298366, 195872.24644881, 130413.09505094, 375110.06721239,\n",
       "       207444.58156789, 143885.45743252, 273259.76827503, 147518.82217014,\n",
       "       161376.86065272, 243936.60033565, 188913.26463722, 178766.55890651,\n",
       "       138021.08803697, 266954.17473101, 146168.63095584, 334477.76892791,\n",
       "       136934.23189611, 145189.68480155, 179596.81705009, 152170.56645303,\n",
       "       152578.91802144, 312360.41207559,  88361.84555734, 136003.88303954,\n",
       "       170506.98532897,  89448.7016982 , 458407.47837334, 258001.41844075,\n",
       "       237961.83620707, 162529.70378955, 142581.23006348, 181424.07999991,\n",
       "       140624.88900993,  81840.70871217, 227154.07008315, 134355.98097378,\n",
       "       206501.94204094, 139538.03286907, 196630.71886485, 274708.21387389,\n",
       "       170723.82346413, 229894.63581039,  80904.62389306, 126355.86738656,\n",
       "       180026.69911946, 183453.5409789 , 254402.19154449, 240193.89943921,\n",
       "       250154.05526376, 173118.25120837, 169686.0336786 , 211938.92039705,\n",
       "       140624.88900993, 228548.45579432, 324906.75017621, 230398.87751185,\n",
       "       237923.49594241, 126328.14138002, 246137.06543414, 315993.6804361 ,\n",
       "       280132.03947964, 152578.91802144, 175358.24083725, 234079.37024834,\n",
       "       161167.24569973, 156927.73112285, 167897.99749789, 151670.61262823,\n",
       "       163607.20287512, 307960.05210583, 173381.34455753, 165403.66265461,\n",
       "       270669.89119691, 218776.7854727 , 118887.7661927 , 439282.87930417,\n",
       "       184224.75044591, 236876.71414088, 183491.23224242,  35052.34729342,\n",
       "       157029.43608927, 145961.72398375, 208415.58447638, 231540.92118197,\n",
       "       205436.04739538, 243693.3361732 , 163889.67205039, 145189.68480155,\n",
       "       156927.73112285, 375955.50630345, 221781.75084349, 144972.31357338,\n",
       "       321866.86608502, 196654.82244712, 295593.58537144, 159101.44340458,\n",
       "       157583.11003452, 227106.57030619, 368300.86674296, 225856.31313341,\n",
       "       279775.13761561, 168437.54743073, 234588.22985069, 191317.22039616,\n",
       "       236925.42387503, 373365.95366525,  59879.5245776 , 155830.54928974,\n",
       "       223344.58446186, 167012.36757208, 160399.46575346, 158297.16986034,\n",
       "       140775.66033168, 234905.26340269, 146910.07876057, 213184.43725432,\n",
       "       194482.08875053, 218196.51411661, 285793.81961135, 176897.16634422,\n",
       "       210000.843187  , 206566.19961389, 181424.07999991, 176261.35550182,\n",
       "       159095.23838443, 201289.66224171, 332655.80194376, 183047.38356353,\n",
       "       138601.94804996, 141885.02922288, 297657.44311336, 142798.60129165,\n",
       "       141524.24761828, 165812.00933495, 173654.98999987, 172924.86497837,\n",
       "        97056.69468423, 310676.15037832, 223313.6993865 , 121511.74325729,\n",
       "       134213.21340637, 121299.56115326, 222987.02963379, 210959.40672638,\n",
       "       209085.96709895, 178766.55890651, 231839.67097065, 250154.05526376,\n",
       "       247694.42926114, 189736.68470432, 171110.74425028, 140125.24152568,\n",
       "       151276.07919037, 158165.35858547, 254133.78480082, 124322.04689701,\n",
       "       409100.11446305, 357646.39203916, 192176.97514677, 142368.51260042,\n",
       "       164403.91283402, 165403.66265461, 234290.17078168, 165403.66265461,\n",
       "       214945.68272938, 136277.46444648, 241181.87091673, 194986.23082372,\n",
       "       176592.84662478, 174228.85004225, 160188.29954544, 178917.33022826,\n",
       "       142711.65280038, 377419.05519031, 223102.80098217, 166381.74219421,\n",
       "       231123.30712691, 135216.99919355, 139976.04055256, 128456.75399739,\n",
       "       263543.16052284, 168968.41052723, 158459.98556896, 176261.35550182,\n",
       "       161376.86065272, 336745.98460113, 355903.67238758, 337991.28821487,\n",
       "       267461.11421767, 122805.10206491, 322147.82633276, 189481.57191743,\n",
       "       173549.64943037, 140843.81149314, 294407.74288483, 154692.07269982,\n",
       "       173598.7157857 , 289836.32530086, 161376.86065272, 346228.27819709,\n",
       "       125729.57851148, 221667.4731197 , 318383.2453311 , 245246.11183073,\n",
       "       176261.35550182, 172276.05885025, 144890.01884722, 165119.64705505,\n",
       "        81990.54168934, 261576.31024785, 192676.7662545 , 247178.89526377,\n",
       "        65313.80528191, 133016.8960239 , 196156.25716029, 181424.07999991,\n",
       "       386134.91913601, 127365.24409142, 244255.02386   , 133016.8960239 ,\n",
       "       211392.79467482, 248469.34555335, 158822.1260351 , 124322.04689701,\n",
       "       273005.41214855, 171207.63227581, 184351.61093257, 184891.16086541,\n",
       "       290049.45012733, 214076.19781669, 231248.5248423 , 290451.85019966,\n",
       "       121718.24592405, 122805.10206491, 176592.84662478, 167012.36757208,\n",
       "       168437.54743073, 232586.99584254, 166811.14135703, 236032.24311713,\n",
       "       320022.47403646, 154645.33322705, 183380.42105346, 163550.57293444,\n",
       "        95098.96509272, 227178.94929293, 228787.78617526, 295131.96131704,\n",
       "       146209.94103599, 130413.09505094, 206566.19961389, 168767.48241058,\n",
       "       165555.98034333, 199075.97826243, 227202.49314948, 208476.67517273,\n",
       "       159469.5859545 , 276498.35704029, 146059.16971424, 300531.63985471,\n",
       "       213282.64108497, 135190.60830562, 190003.26286505, 148170.93585466,\n",
       "       265681.76886511, 238903.46025873, 206088.7337498 , 198764.71189836,\n",
       "       368636.49960004, 181141.17095159, 199241.74301999, 250716.38361743,\n",
       "       165290.93460933,  90621.11779237, 102858.65712299, 185043.85381813,\n",
       "       154333.73058482, 184898.91714059, 206501.94204094, 322892.5332575 ,\n",
       "        94899.30246502, 176261.35550182, 398856.93278253, 193894.20784933,\n",
       "       250141.71547231,  70748.08598621, 225753.80967483, 176261.35550182,\n",
       "       165403.66265461, 213631.63850756, 258449.94017068, 170506.98532897,\n",
       "       100786.53795326, 143885.45743252, 172398.27773114, 252722.0928737 ,\n",
       "       192589.92901606])"
      ]
     },
     "execution_count": 42,
     "metadata": {},
     "output_type": "execute_result"
    }
   ],
   "source": [
    "predi"
   ]
  },
  {
   "cell_type": "code",
   "execution_count": null,
   "id": "d13787aa",
   "metadata": {},
   "outputs": [],
   "source": []
  },
  {
   "cell_type": "code",
   "execution_count": null,
   "id": "ffc6da9b",
   "metadata": {},
   "outputs": [],
   "source": []
  }
 ],
 "metadata": {
  "kernelspec": {
   "display_name": "Python 3 (ipykernel)",
   "language": "python",
   "name": "python3"
  },
  "language_info": {
   "codemirror_mode": {
    "name": "ipython",
    "version": 3
   },
   "file_extension": ".py",
   "mimetype": "text/x-python",
   "name": "python",
   "nbconvert_exporter": "python",
   "pygments_lexer": "ipython3",
   "version": "3.9.12"
  }
 },
 "nbformat": 4,
 "nbformat_minor": 5
}
