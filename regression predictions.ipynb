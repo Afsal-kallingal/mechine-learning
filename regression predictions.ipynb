{
 "cells": [
  {
   "cell_type": "code",
   "execution_count": 1,
   "id": "73d9c988",
   "metadata": {},
   "outputs": [],
   "source": [
    "import pandas as pd\n",
    "import numpy as np\n",
    "import matplotlib.pyplot as plt\n",
    "import seaborn as sns"
   ]
  },
  {
   "cell_type": "code",
   "execution_count": 2,
   "id": "f53d8a94",
   "metadata": {},
   "outputs": [],
   "source": [
    "data=pd.read_excel('D:/afsal/dataset/kk.xlsx')"
   ]
  },
  {
   "cell_type": "code",
   "execution_count": 3,
   "id": "e47bedb8",
   "metadata": {},
   "outputs": [
    {
     "data": {
      "text/html": [
       "<div>\n",
       "<style scoped>\n",
       "    .dataframe tbody tr th:only-of-type {\n",
       "        vertical-align: middle;\n",
       "    }\n",
       "\n",
       "    .dataframe tbody tr th {\n",
       "        vertical-align: top;\n",
       "    }\n",
       "\n",
       "    .dataframe thead th {\n",
       "        text-align: right;\n",
       "    }\n",
       "</style>\n",
       "<table border=\"1\" class=\"dataframe\">\n",
       "  <thead>\n",
       "    <tr style=\"text-align: right;\">\n",
       "      <th></th>\n",
       "      <th>observed bill</th>\n",
       "      <th>observed tip amound</th>\n",
       "    </tr>\n",
       "  </thead>\n",
       "  <tbody>\n",
       "    <tr>\n",
       "      <th>0</th>\n",
       "      <td>34.0</td>\n",
       "      <td>5.0</td>\n",
       "    </tr>\n",
       "    <tr>\n",
       "      <th>1</th>\n",
       "      <td>108.0</td>\n",
       "      <td>17.0</td>\n",
       "    </tr>\n",
       "    <tr>\n",
       "      <th>2</th>\n",
       "      <td>64.0</td>\n",
       "      <td>11.0</td>\n",
       "    </tr>\n",
       "    <tr>\n",
       "      <th>3</th>\n",
       "      <td>88.0</td>\n",
       "      <td>8.0</td>\n",
       "    </tr>\n",
       "    <tr>\n",
       "      <th>4</th>\n",
       "      <td>99.0</td>\n",
       "      <td>14.0</td>\n",
       "    </tr>\n",
       "    <tr>\n",
       "      <th>5</th>\n",
       "      <td>51.0</td>\n",
       "      <td>5.0</td>\n",
       "    </tr>\n",
       "  </tbody>\n",
       "</table>\n",
       "</div>"
      ],
      "text/plain": [
       "   observed bill  observed tip amound\n",
       "0           34.0                  5.0\n",
       "1          108.0                 17.0\n",
       "2           64.0                 11.0\n",
       "3           88.0                  8.0\n",
       "4           99.0                 14.0\n",
       "5           51.0                  5.0"
      ]
     },
     "execution_count": 3,
     "metadata": {},
     "output_type": "execute_result"
    }
   ],
   "source": [
    "data"
   ]
  },
  {
   "cell_type": "code",
   "execution_count": 4,
   "id": "586d6c38",
   "metadata": {},
   "outputs": [
    {
     "data": {
      "text/plain": [
       "<AxesSubplot:>"
      ]
     },
     "execution_count": 4,
     "metadata": {},
     "output_type": "execute_result"
    },
    {
     "data": {
      "image/png": "[encoded data removed]",
      "text/plain": [
       "<Figure size 720x288 with 2 Axes>"
      ]
     },
     "metadata": {
      "needs_background": "light"
     },
     "output_type": "display_data"
    }
   ],
   "source": [
    "cormatrix=data.corr()\n",
    "plt.subplots(figsize=(10,4))\n",
    "sns.heatmap(cormatrix,vmin=2,vmax=1,annot=True,linewidth=0.2,cmap='YlGnBu')"
   ]
  },
  {
   "cell_type": "code",
   "execution_count": 5,
   "id": "cec42b8b",
   "metadata": {},
   "outputs": [
    {
     "data": {
      "text/plain": [
       "Index(['observed bill', 'observed tip amound'], dtype='object')"
      ]
     },
     "execution_count": 5,
     "metadata": {},
     "output_type": "execute_result"
    }
   ],
   "source": [
    "data.columns"
   ]
  },
  {
   "cell_type": "code",
   "execution_count": 6,
   "id": "453891cd",
   "metadata": {},
   "outputs": [],
   "source": [
    "y=data['observed tip amound']\n",
    "x=data.drop(['observed tip amound'],axis=1)"
   ]
  },
  {
   "cell_type": "code",
   "execution_count": 7,
   "id": "7feed83a",
   "metadata": {},
   "outputs": [
    {
     "name": "stdout",
     "output_type": "stream",
     "text": [
      "///////////    observed bill\n",
      "0           34.0\n",
      "1          108.0\n",
      "2           64.0\n",
      "3           88.0\n",
      "4           99.0\n",
      "5           51.0\n",
      "0     5.0\n",
      "1    17.0\n",
      "2    11.0\n",
      "3     8.0\n",
      "4    14.0\n",
      "5     5.0\n",
      "Name: observed tip amound, dtype: float64\n"
     ]
    }
   ],
   "source": [
    "print(\"///////////\",x)\n",
    "print(y)"
   ]
  },
  {
   "cell_type": "code",
   "execution_count": 8,
   "id": "6f9f6153",
   "metadata": {},
   "outputs": [],
   "source": [
    "from sklearn.model_selection import train_test_split"
   ]
  },
  {
   "cell_type": "code",
   "execution_count": 9,
   "id": "2b0cddc2",
   "metadata": {},
   "outputs": [],
   "source": [
    "x_train,x_test,y_train,y_test=train_test_split(x,y,random_state=42,test_size=0.25)"
   ]
  },
  {
   "cell_type": "code",
   "execution_count": 10,
   "id": "097360a1",
   "metadata": {},
   "outputs": [
    {
     "data": {
      "text/html": [
       "<div>\n",
       "<style scoped>\n",
       "    .dataframe tbody tr th:only-of-type {\n",
       "        vertical-align: middle;\n",
       "    }\n",
       "\n",
       "    .dataframe tbody tr th {\n",
       "        vertical-align: top;\n",
       "    }\n",
       "\n",
       "    .dataframe thead th {\n",
       "        text-align: right;\n",
       "    }\n",
       "</style>\n",
       "<table border=\"1\" class=\"dataframe\">\n",
       "  <thead>\n",
       "    <tr style=\"text-align: right;\">\n",
       "      <th></th>\n",
       "      <th>observed bill</th>\n",
       "    </tr>\n",
       "  </thead>\n",
       "  <tbody>\n",
       "    <tr>\n",
       "      <th>0</th>\n",
       "      <td>34.0</td>\n",
       "    </tr>\n",
       "    <tr>\n",
       "      <th>1</th>\n",
       "      <td>108.0</td>\n",
       "    </tr>\n",
       "  </tbody>\n",
       "</table>\n",
       "</div>"
      ],
      "text/plain": [
       "   observed bill\n",
       "0           34.0\n",
       "1          108.0"
      ]
     },
     "execution_count": 10,
     "metadata": {},
     "output_type": "execute_result"
    }
   ],
   "source": [
    "x_test"
   ]
  },
  {
   "cell_type": "code",
   "execution_count": 11,
   "id": "e988c5af",
   "metadata": {},
   "outputs": [
    {
     "data": {
      "text/plain": [
       "0     5.0\n",
       "1    17.0\n",
       "Name: observed tip amound, dtype: float64"
      ]
     },
     "execution_count": 11,
     "metadata": {},
     "output_type": "execute_result"
    }
   ],
   "source": [
    "y_test"
   ]
  },
  {
   "cell_type": "code",
   "execution_count": 12,
   "id": "aa428d29",
   "metadata": {},
   "outputs": [],
   "source": [
    "from sklearn import linear_model\n",
    "lr=linear_model.LinearRegression()\n",
    "\n",
    "model=lr.fit(x_train,y_train)"
   ]
  },
  {
   "cell_type": "code",
   "execution_count": 13,
   "id": "d206e4e4",
   "metadata": {},
   "outputs": [
    {
     "data": {
      "text/plain": [
       "array([ 4.31609993, 13.55968078])"
      ]
     },
     "execution_count": 13,
     "metadata": {},
     "output_type": "execute_result"
    }
   ],
   "source": [
    "predictions=model.predict(x_test)\n",
    "predictions"
   ]
  },
  {
   "cell_type": "code",
   "execution_count": null,
   "id": "3bac707c",
   "metadata": {},
   "outputs": [],
   "source": []
  },
  {
   "cell_type": "code",
   "execution_count": 14,
   "id": "361ac174",
   "metadata": {},
   "outputs": [
    {
     "name": "stdout",
     "output_type": "stream",
     "text": [
      "[ 4.31609993 13.55968078]\n"
     ]
    }
   ],
   "source": [
    "print(predictions)"
   ]
  },
  {
   "cell_type": "code",
   "execution_count": null,
   "id": "54313695",
   "metadata": {},
   "outputs": [],
   "source": []
  },
  {
   "cell_type": "code",
   "execution_count": 15,
   "id": "3907a226",
   "metadata": {},
   "outputs": [],
   "source": [
    "from sklearn.metrics import mean_squared_error"
   ]
  },
  {
   "cell_type": "code",
   "execution_count": 16,
   "id": "8a838c37",
   "metadata": {},
   "outputs": [
    {
     "name": "stdout",
     "output_type": "stream",
     "text": [
      "MSC is: 6.1517578297128654\n"
     ]
    }
   ],
   "source": [
    "print('MSC is:',mean_squared_error(y_test,predictions))"
   ]
  },
  {
   "cell_type": "code",
   "execution_count": null,
   "id": "2d0ae5ea",
   "metadata": {},
   "outputs": [],
   "source": []
  },
  {
   "cell_type": "markdown",
   "id": "312f95fd",
   "metadata": {},
   "source": [
    "# bike\n"
   ]
  },
  {
   "cell_type": "code",
   "execution_count": 17,
   "id": "9e0a3012",
   "metadata": {},
   "outputs": [],
   "source": [
    "a=pd.read_csv('D:/afsal/dataset/bike_train.csv')"
   ]
  },
  {
   "cell_type": "code",
   "execution_count": 18,
   "id": "a6bf5eba",
   "metadata": {
    "scrolled": false
   },
   "outputs": [
    {
     "data": {
      "text/html": [
       "<div>\n",
       "<style scoped>\n",
       "    .dataframe tbody tr th:only-of-type {\n",
       "        vertical-align: middle;\n",
       "    }\n",
       "\n",
       "    .dataframe tbody tr th {\n",
       "        vertical-align: top;\n",
       "    }\n",
       "\n",
       "    .dataframe thead th {\n",
       "        text-align: right;\n",
       "    }\n",
       "</style>\n",
       "<table border=\"1\" class=\"dataframe\">\n",
       "  <thead>\n",
       "    <tr style=\"text-align: right;\">\n",
       "      <th></th>\n",
       "      <th>instant</th>\n",
       "      <th>dteday</th>\n",
       "      <th>season</th>\n",
       "      <th>yr</th>\n",
       "      <th>mnth</th>\n",
       "      <th>hr</th>\n",
       "      <th>holiday</th>\n",
       "      <th>weekday</th>\n",
       "      <th>workingday</th>\n",
       "      <th>weathersit</th>\n",
       "      <th>temp</th>\n",
       "      <th>atemp</th>\n",
       "      <th>hum</th>\n",
       "      <th>windspeed</th>\n",
       "      <th>cnt</th>\n",
       "    </tr>\n",
       "  </thead>\n",
       "  <tbody>\n",
       "    <tr>\n",
       "      <th>0</th>\n",
       "      <td>10136</td>\n",
       "      <td>03-03-2012</td>\n",
       "      <td>1</td>\n",
       "      <td>1</td>\n",
       "      <td>3</td>\n",
       "      <td>9</td>\n",
       "      <td>0</td>\n",
       "      <td>6</td>\n",
       "      <td>0</td>\n",
       "      <td>3</td>\n",
       "      <td>0.38</td>\n",
       "      <td>0.3939</td>\n",
       "      <td>0.87</td>\n",
       "      <td>0.0896</td>\n",
       "      <td>94</td>\n",
       "    </tr>\n",
       "    <tr>\n",
       "      <th>1</th>\n",
       "      <td>6987</td>\n",
       "      <td>23-10-2011</td>\n",
       "      <td>4</td>\n",
       "      <td>0</td>\n",
       "      <td>10</td>\n",
       "      <td>17</td>\n",
       "      <td>0</td>\n",
       "      <td>0</td>\n",
       "      <td>0</td>\n",
       "      <td>1</td>\n",
       "      <td>0.50</td>\n",
       "      <td>0.4848</td>\n",
       "      <td>0.63</td>\n",
       "      <td>0.1343</td>\n",
       "      <td>340</td>\n",
       "    </tr>\n",
       "    <tr>\n",
       "      <th>2</th>\n",
       "      <td>14303</td>\n",
       "      <td>24-08-2012</td>\n",
       "      <td>3</td>\n",
       "      <td>1</td>\n",
       "      <td>8</td>\n",
       "      <td>3</td>\n",
       "      <td>0</td>\n",
       "      <td>5</td>\n",
       "      <td>1</td>\n",
       "      <td>1</td>\n",
       "      <td>0.64</td>\n",
       "      <td>0.6061</td>\n",
       "      <td>0.73</td>\n",
       "      <td>0.0000</td>\n",
       "      <td>8</td>\n",
       "    </tr>\n",
       "    <tr>\n",
       "      <th>3</th>\n",
       "      <td>2295</td>\n",
       "      <td>10-04-2011</td>\n",
       "      <td>2</td>\n",
       "      <td>0</td>\n",
       "      <td>4</td>\n",
       "      <td>11</td>\n",
       "      <td>0</td>\n",
       "      <td>0</td>\n",
       "      <td>0</td>\n",
       "      <td>2</td>\n",
       "      <td>0.40</td>\n",
       "      <td>0.4091</td>\n",
       "      <td>0.87</td>\n",
       "      <td>0.1343</td>\n",
       "      <td>202</td>\n",
       "    </tr>\n",
       "    <tr>\n",
       "      <th>4</th>\n",
       "      <td>7869</td>\n",
       "      <td>29-11-2011</td>\n",
       "      <td>4</td>\n",
       "      <td>0</td>\n",
       "      <td>11</td>\n",
       "      <td>12</td>\n",
       "      <td>0</td>\n",
       "      <td>2</td>\n",
       "      <td>1</td>\n",
       "      <td>3</td>\n",
       "      <td>0.42</td>\n",
       "      <td>0.4242</td>\n",
       "      <td>0.82</td>\n",
       "      <td>0.4179</td>\n",
       "      <td>18</td>\n",
       "    </tr>\n",
       "    <tr>\n",
       "      <th>...</th>\n",
       "      <td>...</td>\n",
       "      <td>...</td>\n",
       "      <td>...</td>\n",
       "      <td>...</td>\n",
       "      <td>...</td>\n",
       "      <td>...</td>\n",
       "      <td>...</td>\n",
       "      <td>...</td>\n",
       "      <td>...</td>\n",
       "      <td>...</td>\n",
       "      <td>...</td>\n",
       "      <td>...</td>\n",
       "      <td>...</td>\n",
       "      <td>...</td>\n",
       "      <td>...</td>\n",
       "    </tr>\n",
       "    <tr>\n",
       "      <th>13898</th>\n",
       "      <td>6896</td>\n",
       "      <td>19-10-2011</td>\n",
       "      <td>4</td>\n",
       "      <td>0</td>\n",
       "      <td>10</td>\n",
       "      <td>22</td>\n",
       "      <td>0</td>\n",
       "      <td>3</td>\n",
       "      <td>1</td>\n",
       "      <td>2</td>\n",
       "      <td>0.58</td>\n",
       "      <td>0.5455</td>\n",
       "      <td>0.94</td>\n",
       "      <td>0.3582</td>\n",
       "      <td>107</td>\n",
       "    </tr>\n",
       "    <tr>\n",
       "      <th>13899</th>\n",
       "      <td>4829</td>\n",
       "      <td>25-07-2011</td>\n",
       "      <td>3</td>\n",
       "      <td>0</td>\n",
       "      <td>7</td>\n",
       "      <td>2</td>\n",
       "      <td>0</td>\n",
       "      <td>1</td>\n",
       "      <td>1</td>\n",
       "      <td>2</td>\n",
       "      <td>0.74</td>\n",
       "      <td>0.7121</td>\n",
       "      <td>0.79</td>\n",
       "      <td>0.0896</td>\n",
       "      <td>6</td>\n",
       "    </tr>\n",
       "    <tr>\n",
       "      <th>13900</th>\n",
       "      <td>7785</td>\n",
       "      <td>25-11-2011</td>\n",
       "      <td>4</td>\n",
       "      <td>0</td>\n",
       "      <td>11</td>\n",
       "      <td>23</td>\n",
       "      <td>0</td>\n",
       "      <td>5</td>\n",
       "      <td>1</td>\n",
       "      <td>1</td>\n",
       "      <td>0.34</td>\n",
       "      <td>0.3485</td>\n",
       "      <td>0.76</td>\n",
       "      <td>0.1045</td>\n",
       "      <td>33</td>\n",
       "    </tr>\n",
       "    <tr>\n",
       "      <th>13901</th>\n",
       "      <td>14190</td>\n",
       "      <td>19-08-2012</td>\n",
       "      <td>3</td>\n",
       "      <td>1</td>\n",
       "      <td>8</td>\n",
       "      <td>10</td>\n",
       "      <td>0</td>\n",
       "      <td>0</td>\n",
       "      <td>0</td>\n",
       "      <td>2</td>\n",
       "      <td>0.68</td>\n",
       "      <td>0.6364</td>\n",
       "      <td>0.69</td>\n",
       "      <td>0.0000</td>\n",
       "      <td>425</td>\n",
       "    </tr>\n",
       "    <tr>\n",
       "      <th>13902</th>\n",
       "      <td>4770</td>\n",
       "      <td>22-07-2011</td>\n",
       "      <td>3</td>\n",
       "      <td>0</td>\n",
       "      <td>7</td>\n",
       "      <td>15</td>\n",
       "      <td>0</td>\n",
       "      <td>5</td>\n",
       "      <td>1</td>\n",
       "      <td>1</td>\n",
       "      <td>0.94</td>\n",
       "      <td>0.9848</td>\n",
       "      <td>0.51</td>\n",
       "      <td>0.2985</td>\n",
       "      <td>133</td>\n",
       "    </tr>\n",
       "  </tbody>\n",
       "</table>\n",
       "<p>13903 rows × 15 columns</p>\n",
       "</div>"
      ],
      "text/plain": [
       "       instant      dteday  season  yr  mnth  hr  holiday  weekday  \\\n",
       "0        10136  03-03-2012       1   1     3   9        0        6   \n",
       "1         6987  23-10-2011       4   0    10  17        0        0   \n",
       "2        14303  24-08-2012       3   1     8   3        0        5   \n",
       "3         2295  10-04-2011       2   0     4  11        0        0   \n",
       "4         7869  29-11-2011       4   0    11  12        0        2   \n",
       "...        ...         ...     ...  ..   ...  ..      ...      ...   \n",
       "13898     6896  19-10-2011       4   0    10  22        0        3   \n",
       "13899     4829  25-07-2011       3   0     7   2        0        1   \n",
       "13900     7785  25-11-2011       4   0    11  23        0        5   \n",
       "13901    14190  19-08-2012       3   1     8  10        0        0   \n",
       "13902     4770  22-07-2011       3   0     7  15        0        5   \n",
       "\n",
       "       workingday  weathersit  temp   atemp   hum  windspeed  cnt  \n",
       "0               0           3  0.38  0.3939  0.87     0.0896   94  \n",
       "1               0           1  0.50  0.4848  0.63     0.1343  340  \n",
       "2               1           1  0.64  0.6061  0.73     0.0000    8  \n",
       "3               0           2  0.40  0.4091  0.87     0.1343  202  \n",
       "4               1           3  0.42  0.4242  0.82     0.4179   18  \n",
       "...           ...         ...   ...     ...   ...        ...  ...  \n",
       "13898           1           2  0.58  0.5455  0.94     0.3582  107  \n",
       "13899           1           2  0.74  0.7121  0.79     0.0896    6  \n",
       "13900           1           1  0.34  0.3485  0.76     0.1045   33  \n",
       "13901           0           2  0.68  0.6364  0.69     0.0000  425  \n",
       "13902           1           1  0.94  0.9848  0.51     0.2985  133  \n",
       "\n",
       "[13903 rows x 15 columns]"
      ]
     },
     "execution_count": 18,
     "metadata": {},
     "output_type": "execute_result"
    }
   ],
   "source": [
    "a"
   ]
  },
  {
   "cell_type": "code",
   "execution_count": 19,
   "id": "c4a1daf5",
   "metadata": {},
   "outputs": [
    {
     "data": {
      "text/plain": [
       "Index(['instant', 'dteday', 'season', 'yr', 'mnth', 'hr', 'holiday', 'weekday',\n",
       "       'workingday', 'weathersit', 'temp', 'atemp', 'hum', 'windspeed', 'cnt'],\n",
       "      dtype='object')"
      ]
     },
     "execution_count": 19,
     "metadata": {},
     "output_type": "execute_result"
    }
   ],
   "source": [
    "a.columns"
   ]
  },
  {
   "cell_type": "code",
   "execution_count": 20,
   "id": "2a45d2a6",
   "metadata": {},
   "outputs": [],
   "source": [
    "b=a.fillna(value=0)"
   ]
  },
  {
   "cell_type": "code",
   "execution_count": 21,
   "id": "f1821907",
   "metadata": {},
   "outputs": [
    {
     "data": {
      "text/plain": [
       "<AxesSubplot:>"
      ]
     },
     "execution_count": 21,
     "metadata": {},
     "output_type": "execute_result"
    },
    {
     "data": {
      "image/png": "[encoded data removed]",
      "text/plain": [
       "<Figure size 720x288 with 2 Axes>"
      ]
     },
     "metadata": {
      "needs_background": "light"
     },
     "output_type": "display_data"
    }
   ],
   "source": [
    "cormatrix=data.corr()\n",
    "plt.subplots(figsize=(10,4))\n",
    "sns.heatmap(cormatrix,vmin=2,vmax=1,annot=True,linewidth=0.2,cmap='YlGnBu')"
   ]
  },
  {
   "cell_type": "code",
   "execution_count": 22,
   "id": "88a49965",
   "metadata": {},
   "outputs": [
    {
     "data": {
      "text/plain": [
       "Index(['instant', 'dteday', 'season', 'yr', 'mnth', 'hr', 'holiday', 'weekday',\n",
       "       'workingday', 'weathersit', 'temp', 'atemp', 'hum', 'windspeed', 'cnt'],\n",
       "      dtype='object')"
      ]
     },
     "execution_count": 22,
     "metadata": {},
     "output_type": "execute_result"
    }
   ],
   "source": [
    "b.columns"
   ]
  },
  {
   "cell_type": "code",
   "execution_count": 23,
   "id": "f8b7fcc8",
   "metadata": {},
   "outputs": [],
   "source": [
    "m=b.drop(['dteday'],axis=1)"
   ]
  },
  {
   "cell_type": "code",
   "execution_count": 24,
   "id": "d5489c18",
   "metadata": {},
   "outputs": [],
   "source": [
    "y=m['cnt']\n",
    "x=m.drop(['cnt'],axis=1)"
   ]
  },
  {
   "cell_type": "code",
   "execution_count": 25,
   "id": "d4ab5a7c",
   "metadata": {},
   "outputs": [
    {
     "name": "stdout",
     "output_type": "stream",
     "text": [
      "       instant  season  yr  mnth  hr  holiday  weekday  workingday  \\\n",
      "0        10136       1   1     3   9        0        6           0   \n",
      "1         6987       4   0    10  17        0        0           0   \n",
      "2        14303       3   1     8   3        0        5           1   \n",
      "3         2295       2   0     4  11        0        0           0   \n",
      "4         7869       4   0    11  12        0        2           1   \n",
      "...        ...     ...  ..   ...  ..      ...      ...         ...   \n",
      "13898     6896       4   0    10  22        0        3           1   \n",
      "13899     4829       3   0     7   2        0        1           1   \n",
      "13900     7785       4   0    11  23        0        5           1   \n",
      "13901    14190       3   1     8  10        0        0           0   \n",
      "13902     4770       3   0     7  15        0        5           1   \n",
      "\n",
      "       weathersit  temp   atemp   hum  windspeed  \n",
      "0               3  0.38  0.3939  0.87     0.0896  \n",
      "1               1  0.50  0.4848  0.63     0.1343  \n",
      "2               1  0.64  0.6061  0.73     0.0000  \n",
      "3               2  0.40  0.4091  0.87     0.1343  \n",
      "4               3  0.42  0.4242  0.82     0.4179  \n",
      "...           ...   ...     ...   ...        ...  \n",
      "13898           2  0.58  0.5455  0.94     0.3582  \n",
      "13899           2  0.74  0.7121  0.79     0.0896  \n",
      "13900           1  0.34  0.3485  0.76     0.1045  \n",
      "13901           2  0.68  0.6364  0.69     0.0000  \n",
      "13902           1  0.94  0.9848  0.51     0.2985  \n",
      "\n",
      "[13903 rows x 13 columns]\n"
     ]
    }
   ],
   "source": [
    "print(x)"
   ]
  },
  {
   "cell_type": "code",
   "execution_count": 26,
   "id": "0779a7af",
   "metadata": {},
   "outputs": [
    {
     "name": "stdout",
     "output_type": "stream",
     "text": [
      "0         94\n",
      "1        340\n",
      "2          8\n",
      "3        202\n",
      "4         18\n",
      "        ... \n",
      "13898    107\n",
      "13899      6\n",
      "13900     33\n",
      "13901    425\n",
      "13902    133\n",
      "Name: cnt, Length: 13903, dtype: int64\n"
     ]
    }
   ],
   "source": [
    "print(y)"
   ]
  },
  {
   "cell_type": "code",
   "execution_count": 27,
   "id": "dcbf8545",
   "metadata": {},
   "outputs": [],
   "source": [
    "from sklearn.model_selection import train_test_split\n"
   ]
  },
  {
   "cell_type": "code",
   "execution_count": 28,
   "id": "28dc3270",
   "metadata": {},
   "outputs": [],
   "source": [
    "x_train,x_test,y_train,y_test=train_test_split(x,y,random_state=42,test_size=0.25)"
   ]
  },
  {
   "cell_type": "code",
   "execution_count": 29,
   "id": "89a3db1a",
   "metadata": {},
   "outputs": [
    {
     "data": {
      "text/html": [
       "<div>\n",
       "<style scoped>\n",
       "    .dataframe tbody tr th:only-of-type {\n",
       "        vertical-align: middle;\n",
       "    }\n",
       "\n",
       "    .dataframe tbody tr th {\n",
       "        vertical-align: top;\n",
       "    }\n",
       "\n",
       "    .dataframe thead th {\n",
       "        text-align: right;\n",
       "    }\n",
       "</style>\n",
       "<table border=\"1\" class=\"dataframe\">\n",
       "  <thead>\n",
       "    <tr style=\"text-align: right;\">\n",
       "      <th></th>\n",
       "      <th>instant</th>\n",
       "      <th>season</th>\n",
       "      <th>yr</th>\n",
       "      <th>mnth</th>\n",
       "      <th>hr</th>\n",
       "      <th>holiday</th>\n",
       "      <th>weekday</th>\n",
       "      <th>workingday</th>\n",
       "      <th>weathersit</th>\n",
       "      <th>temp</th>\n",
       "      <th>atemp</th>\n",
       "      <th>hum</th>\n",
       "      <th>windspeed</th>\n",
       "    </tr>\n",
       "  </thead>\n",
       "  <tbody>\n",
       "    <tr>\n",
       "      <th>6703</th>\n",
       "      <td>5422</td>\n",
       "      <td>3</td>\n",
       "      <td>0</td>\n",
       "      <td>8</td>\n",
       "      <td>19</td>\n",
       "      <td>0</td>\n",
       "      <td>4</td>\n",
       "      <td>1</td>\n",
       "      <td>1</td>\n",
       "      <td>0.66</td>\n",
       "      <td>0.6061</td>\n",
       "      <td>0.83</td>\n",
       "      <td>0.1045</td>\n",
       "    </tr>\n",
       "    <tr>\n",
       "      <th>13764</th>\n",
       "      <td>8611</td>\n",
       "      <td>1</td>\n",
       "      <td>0</td>\n",
       "      <td>12</td>\n",
       "      <td>13</td>\n",
       "      <td>0</td>\n",
       "      <td>5</td>\n",
       "      <td>1</td>\n",
       "      <td>2</td>\n",
       "      <td>0.36</td>\n",
       "      <td>0.3485</td>\n",
       "      <td>0.53</td>\n",
       "      <td>0.1343</td>\n",
       "    </tr>\n",
       "    <tr>\n",
       "      <th>1385</th>\n",
       "      <td>7937</td>\n",
       "      <td>4</td>\n",
       "      <td>0</td>\n",
       "      <td>12</td>\n",
       "      <td>8</td>\n",
       "      <td>0</td>\n",
       "      <td>5</td>\n",
       "      <td>1</td>\n",
       "      <td>1</td>\n",
       "      <td>0.24</td>\n",
       "      <td>0.2879</td>\n",
       "      <td>0.87</td>\n",
       "      <td>0.0000</td>\n",
       "    </tr>\n",
       "    <tr>\n",
       "      <th>6790</th>\n",
       "      <td>6672</td>\n",
       "      <td>4</td>\n",
       "      <td>0</td>\n",
       "      <td>10</td>\n",
       "      <td>13</td>\n",
       "      <td>1</td>\n",
       "      <td>1</td>\n",
       "      <td>0</td>\n",
       "      <td>1</td>\n",
       "      <td>0.72</td>\n",
       "      <td>0.6515</td>\n",
       "      <td>0.37</td>\n",
       "      <td>0.0000</td>\n",
       "    </tr>\n",
       "    <tr>\n",
       "      <th>169</th>\n",
       "      <td>6377</td>\n",
       "      <td>4</td>\n",
       "      <td>0</td>\n",
       "      <td>9</td>\n",
       "      <td>6</td>\n",
       "      <td>0</td>\n",
       "      <td>3</td>\n",
       "      <td>1</td>\n",
       "      <td>3</td>\n",
       "      <td>0.60</td>\n",
       "      <td>0.5152</td>\n",
       "      <td>0.94</td>\n",
       "      <td>0.1642</td>\n",
       "    </tr>\n",
       "    <tr>\n",
       "      <th>...</th>\n",
       "      <td>...</td>\n",
       "      <td>...</td>\n",
       "      <td>...</td>\n",
       "      <td>...</td>\n",
       "      <td>...</td>\n",
       "      <td>...</td>\n",
       "      <td>...</td>\n",
       "      <td>...</td>\n",
       "      <td>...</td>\n",
       "      <td>...</td>\n",
       "      <td>...</td>\n",
       "      <td>...</td>\n",
       "      <td>...</td>\n",
       "    </tr>\n",
       "    <tr>\n",
       "      <th>598</th>\n",
       "      <td>12946</td>\n",
       "      <td>3</td>\n",
       "      <td>1</td>\n",
       "      <td>6</td>\n",
       "      <td>14</td>\n",
       "      <td>0</td>\n",
       "      <td>4</td>\n",
       "      <td>1</td>\n",
       "      <td>1</td>\n",
       "      <td>0.86</td>\n",
       "      <td>0.7273</td>\n",
       "      <td>0.25</td>\n",
       "      <td>0.3284</td>\n",
       "    </tr>\n",
       "    <tr>\n",
       "      <th>13893</th>\n",
       "      <td>14616</td>\n",
       "      <td>3</td>\n",
       "      <td>1</td>\n",
       "      <td>9</td>\n",
       "      <td>4</td>\n",
       "      <td>0</td>\n",
       "      <td>4</td>\n",
       "      <td>1</td>\n",
       "      <td>2</td>\n",
       "      <td>0.70</td>\n",
       "      <td>0.6667</td>\n",
       "      <td>0.84</td>\n",
       "      <td>0.0896</td>\n",
       "    </tr>\n",
       "    <tr>\n",
       "      <th>563</th>\n",
       "      <td>12337</td>\n",
       "      <td>2</td>\n",
       "      <td>1</td>\n",
       "      <td>6</td>\n",
       "      <td>5</td>\n",
       "      <td>0</td>\n",
       "      <td>0</td>\n",
       "      <td>0</td>\n",
       "      <td>1</td>\n",
       "      <td>0.50</td>\n",
       "      <td>0.4848</td>\n",
       "      <td>0.68</td>\n",
       "      <td>0.0000</td>\n",
       "    </tr>\n",
       "    <tr>\n",
       "      <th>1905</th>\n",
       "      <td>1522</td>\n",
       "      <td>1</td>\n",
       "      <td>0</td>\n",
       "      <td>3</td>\n",
       "      <td>18</td>\n",
       "      <td>0</td>\n",
       "      <td>2</td>\n",
       "      <td>1</td>\n",
       "      <td>1</td>\n",
       "      <td>0.34</td>\n",
       "      <td>0.3333</td>\n",
       "      <td>0.27</td>\n",
       "      <td>0.1940</td>\n",
       "    </tr>\n",
       "    <tr>\n",
       "      <th>6461</th>\n",
       "      <td>2921</td>\n",
       "      <td>2</td>\n",
       "      <td>0</td>\n",
       "      <td>5</td>\n",
       "      <td>14</td>\n",
       "      <td>0</td>\n",
       "      <td>5</td>\n",
       "      <td>1</td>\n",
       "      <td>1</td>\n",
       "      <td>0.60</td>\n",
       "      <td>0.6212</td>\n",
       "      <td>0.40</td>\n",
       "      <td>0.4478</td>\n",
       "    </tr>\n",
       "  </tbody>\n",
       "</table>\n",
       "<p>3476 rows × 13 columns</p>\n",
       "</div>"
      ],
      "text/plain": [
       "       instant  season  yr  mnth  hr  holiday  weekday  workingday  \\\n",
       "6703      5422       3   0     8  19        0        4           1   \n",
       "13764     8611       1   0    12  13        0        5           1   \n",
       "1385      7937       4   0    12   8        0        5           1   \n",
       "6790      6672       4   0    10  13        1        1           0   \n",
       "169       6377       4   0     9   6        0        3           1   \n",
       "...        ...     ...  ..   ...  ..      ...      ...         ...   \n",
       "598      12946       3   1     6  14        0        4           1   \n",
       "13893    14616       3   1     9   4        0        4           1   \n",
       "563      12337       2   1     6   5        0        0           0   \n",
       "1905      1522       1   0     3  18        0        2           1   \n",
       "6461      2921       2   0     5  14        0        5           1   \n",
       "\n",
       "       weathersit  temp   atemp   hum  windspeed  \n",
       "6703            1  0.66  0.6061  0.83     0.1045  \n",
       "13764           2  0.36  0.3485  0.53     0.1343  \n",
       "1385            1  0.24  0.2879  0.87     0.0000  \n",
       "6790            1  0.72  0.6515  0.37     0.0000  \n",
       "169             3  0.60  0.5152  0.94     0.1642  \n",
       "...           ...   ...     ...   ...        ...  \n",
       "598             1  0.86  0.7273  0.25     0.3284  \n",
       "13893           2  0.70  0.6667  0.84     0.0896  \n",
       "563             1  0.50  0.4848  0.68     0.0000  \n",
       "1905            1  0.34  0.3333  0.27     0.1940  \n",
       "6461            1  0.60  0.6212  0.40     0.4478  \n",
       "\n",
       "[3476 rows x 13 columns]"
      ]
     },
     "execution_count": 29,
     "metadata": {},
     "output_type": "execute_result"
    }
   ],
   "source": [
    "x_test"
   ]
  },
  {
   "cell_type": "code",
   "execution_count": null,
   "id": "e9aa81fb",
   "metadata": {},
   "outputs": [],
   "source": []
  },
  {
   "cell_type": "code",
   "execution_count": 30,
   "id": "b19909be",
   "metadata": {},
   "outputs": [
    {
     "data": {
      "text/plain": [
       "6703     141\n",
       "13764    207\n",
       "1385     445\n",
       "6790     365\n",
       "169      114\n",
       "        ... \n",
       "598      254\n",
       "13893      8\n",
       "563       12\n",
       "1905     235\n",
       "6461     213\n",
       "Name: cnt, Length: 3476, dtype: int64"
      ]
     },
     "execution_count": 30,
     "metadata": {},
     "output_type": "execute_result"
    }
   ],
   "source": [
    "y_test"
   ]
  },
  {
   "cell_type": "code",
   "execution_count": 31,
   "id": "74ab2992",
   "metadata": {},
   "outputs": [],
   "source": [
    "from sklearn import linear_model\n",
    "lr=linear_model.LinearRegression()\n",
    "\n",
    "model=lr.fit(x_train,y_train)"
   ]
  },
  {
   "cell_type": "code",
   "execution_count": 32,
   "id": "30953d39",
   "metadata": {},
   "outputs": [
    {
     "data": {
      "text/plain": [
       "array([221.37355302, 108.22317719,  41.76928556, ..., 149.84508519,\n",
       "       194.42466639, 260.55593968])"
      ]
     },
     "execution_count": 32,
     "metadata": {},
     "output_type": "execute_result"
    }
   ],
   "source": [
    "predictions=model.predict(x_test)\n",
    "predictions"
   ]
  },
  {
   "cell_type": "code",
   "execution_count": 33,
   "id": "8139aedb",
   "metadata": {},
   "outputs": [],
   "source": [
    "from sklearn.metrics import mean_squared_error"
   ]
  },
  {
   "cell_type": "code",
   "execution_count": 34,
   "id": "52a1565c",
   "metadata": {},
   "outputs": [
    {
     "name": "stdout",
     "output_type": "stream",
     "text": [
      "MSC is: 19685.728247621\n"
     ]
    }
   ],
   "source": [
    "print('MSC is:',mean_squared_error(y_test,predictions))"
   ]
  },
  {
   "cell_type": "markdown",
   "id": "48cc11eb",
   "metadata": {},
   "source": [
    "# football epl"
   ]
  },
  {
   "cell_type": "code",
   "execution_count": 35,
   "id": "e773c9b5",
   "metadata": {},
   "outputs": [],
   "source": [
    "\n",
    "\n",
    "a=pd.read_csv('D:/afsal/dataset/crime_rate_Spain.csv')"
   ]
  },
  {
   "cell_type": "code",
   "execution_count": 36,
   "id": "f2a30bba",
   "metadata": {},
   "outputs": [
    {
     "data": {
      "text/html": [
       "<div>\n",
       "<style scoped>\n",
       "    .dataframe tbody tr th:only-of-type {\n",
       "        vertical-align: middle;\n",
       "    }\n",
       "\n",
       "    .dataframe tbody tr th {\n",
       "        vertical-align: top;\n",
       "    }\n",
       "\n",
       "    .dataframe thead th {\n",
       "        text-align: right;\n",
       "    }\n",
       "</style>\n",
       "<table border=\"1\" class=\"dataframe\">\n",
       "  <thead>\n",
       "    <tr style=\"text-align: right;\">\n",
       "      <th></th>\n",
       "      <th>Location</th>\n",
       "      <th>Year</th>\n",
       "      <th>Crime</th>\n",
       "      <th>Total cases</th>\n",
       "    </tr>\n",
       "  </thead>\n",
       "  <tbody>\n",
       "    <tr>\n",
       "      <th>0</th>\n",
       "      <td>Barcelona</td>\n",
       "      <td>2021</td>\n",
       "      <td>Intentional homicides and consummated murders</td>\n",
       "      <td>36</td>\n",
       "    </tr>\n",
       "    <tr>\n",
       "      <th>1</th>\n",
       "      <td>Barcelona</td>\n",
       "      <td>2021</td>\n",
       "      <td>Intentional homicides and attempted murders</td>\n",
       "      <td>137</td>\n",
       "    </tr>\n",
       "    <tr>\n",
       "      <th>2</th>\n",
       "      <td>Barcelona</td>\n",
       "      <td>2021</td>\n",
       "      <td>Serious and less serious crimes of injuries an...</td>\n",
       "      <td>2161</td>\n",
       "    </tr>\n",
       "    <tr>\n",
       "      <th>3</th>\n",
       "      <td>Barcelona</td>\n",
       "      <td>2021</td>\n",
       "      <td>Kidnapping</td>\n",
       "      <td>8</td>\n",
       "    </tr>\n",
       "    <tr>\n",
       "      <th>4</th>\n",
       "      <td>Barcelona</td>\n",
       "      <td>2021</td>\n",
       "      <td>Crimes against freedom and sexual indemnity</td>\n",
       "      <td>2406</td>\n",
       "    </tr>\n",
       "    <tr>\n",
       "      <th>...</th>\n",
       "      <td>...</td>\n",
       "      <td>...</td>\n",
       "      <td>...</td>\n",
       "      <td>...</td>\n",
       "    </tr>\n",
       "    <tr>\n",
       "      <th>667</th>\n",
       "      <td>Melilla</td>\n",
       "      <td>2021</td>\n",
       "      <td>Robberies with force in homes</td>\n",
       "      <td>55</td>\n",
       "    </tr>\n",
       "    <tr>\n",
       "      <th>668</th>\n",
       "      <td>Melilla</td>\n",
       "      <td>2021</td>\n",
       "      <td>Theft</td>\n",
       "      <td>576</td>\n",
       "    </tr>\n",
       "    <tr>\n",
       "      <th>669</th>\n",
       "      <td>Melilla</td>\n",
       "      <td>2021</td>\n",
       "      <td>Vehicle theft</td>\n",
       "      <td>35</td>\n",
       "    </tr>\n",
       "    <tr>\n",
       "      <th>670</th>\n",
       "      <td>Melilla</td>\n",
       "      <td>2021</td>\n",
       "      <td>Drug trafficking</td>\n",
       "      <td>230</td>\n",
       "    </tr>\n",
       "    <tr>\n",
       "      <th>671</th>\n",
       "      <td>Melilla</td>\n",
       "      <td>2021</td>\n",
       "      <td>Other criminal offenses</td>\n",
       "      <td>2842</td>\n",
       "    </tr>\n",
       "  </tbody>\n",
       "</table>\n",
       "<p>672 rows × 4 columns</p>\n",
       "</div>"
      ],
      "text/plain": [
       "      Location  Year                                              Crime  \\\n",
       "0    Barcelona  2021      Intentional homicides and consummated murders   \n",
       "1    Barcelona  2021        Intentional homicides and attempted murders   \n",
       "2    Barcelona  2021  Serious and less serious crimes of injuries an...   \n",
       "3    Barcelona  2021                                         Kidnapping   \n",
       "4    Barcelona  2021        Crimes against freedom and sexual indemnity   \n",
       "..         ...   ...                                                ...   \n",
       "667    Melilla  2021                      Robberies with force in homes   \n",
       "668    Melilla  2021                                              Theft   \n",
       "669    Melilla  2021                                      Vehicle theft   \n",
       "670    Melilla  2021                                   Drug trafficking   \n",
       "671    Melilla  2021                            Other criminal offenses   \n",
       "\n",
       "     Total cases  \n",
       "0             36  \n",
       "1            137  \n",
       "2           2161  \n",
       "3              8  \n",
       "4           2406  \n",
       "..           ...  \n",
       "667           55  \n",
       "668          576  \n",
       "669           35  \n",
       "670          230  \n",
       "671         2842  \n",
       "\n",
       "[672 rows x 4 columns]"
      ]
     },
     "execution_count": 36,
     "metadata": {},
     "output_type": "execute_result"
    }
   ],
   "source": [
    "a"
   ]
  },
  {
   "cell_type": "code",
   "execution_count": 37,
   "id": "90693bd6",
   "metadata": {},
   "outputs": [
    {
     "data": {
      "text/plain": [
       "Index(['Location', 'Year', 'Crime', 'Total cases'], dtype='object')"
      ]
     },
     "execution_count": 37,
     "metadata": {},
     "output_type": "execute_result"
    }
   ],
   "source": [
    "a.columns"
   ]
  },
  {
   "cell_type": "code",
   "execution_count": 38,
   "id": "01048658",
   "metadata": {},
   "outputs": [],
   "source": [
    "b=a.fillna(value=0)"
   ]
  },
  {
   "cell_type": "code",
   "execution_count": 44,
   "id": "d7650fc0",
   "metadata": {},
   "outputs": [],
   "source": [
    "m=b.drop(['Location'],axis=1)"
   ]
  },
  {
   "cell_type": "code",
   "execution_count": 45,
   "id": "8b642d77",
   "metadata": {},
   "outputs": [],
   "source": [
    "s=m.drop(['Crime'],axis=1)"
   ]
  },
  {
   "cell_type": "code",
   "execution_count": 46,
   "id": "c12dddc8",
   "metadata": {},
   "outputs": [
    {
     "name": "stdout",
     "output_type": "stream",
     "text": [
      "     Year  Total cases\n",
      "0    2021           36\n",
      "1    2021          137\n",
      "2    2021         2161\n",
      "3    2021            8\n",
      "4    2021         2406\n",
      "..    ...          ...\n",
      "667  2021           55\n",
      "668  2021          576\n",
      "669  2021           35\n",
      "670  2021          230\n",
      "671  2021         2842\n",
      "\n",
      "[672 rows x 2 columns]\n"
     ]
    }
   ],
   "source": [
    "print(s)"
   ]
  },
  {
   "cell_type": "code",
   "execution_count": 48,
   "id": "5c0dee1c",
   "metadata": {},
   "outputs": [],
   "source": [
    "y=s['Total cases']\n",
    "x=s.drop(['Total cases'],axis=1)"
   ]
  },
  {
   "cell_type": "code",
   "execution_count": 49,
   "id": "dfab5293",
   "metadata": {},
   "outputs": [
    {
     "name": "stdout",
     "output_type": "stream",
     "text": [
      "0        36\n",
      "1       137\n",
      "2      2161\n",
      "3         8\n",
      "4      2406\n",
      "       ... \n",
      "667      55\n",
      "668     576\n",
      "669      35\n",
      "670     230\n",
      "671    2842\n",
      "Name: Total cases, Length: 672, dtype: int64\n",
      "     Year\n",
      "0    2021\n",
      "1    2021\n",
      "2    2021\n",
      "3    2021\n",
      "4    2021\n",
      "..    ...\n",
      "667  2021\n",
      "668  2021\n",
      "669  2021\n",
      "670  2021\n",
      "671  2021\n",
      "\n",
      "[672 rows x 1 columns]\n"
     ]
    }
   ],
   "source": [
    "print(y)\n",
    "print(x)"
   ]
  },
  {
   "cell_type": "code",
   "execution_count": 50,
   "id": "ed8c30b1",
   "metadata": {},
   "outputs": [],
   "source": [
    "from sklearn.model_selection import train_test_split"
   ]
  },
  {
   "cell_type": "code",
   "execution_count": 51,
   "id": "c69cd63a",
   "metadata": {},
   "outputs": [],
   "source": [
    "x_train,x_test,y_train,y_test=train_test_split(x,y,random_state=42,test_size=0.25)"
   ]
  },
  {
   "cell_type": "code",
   "execution_count": 52,
   "id": "60e71416",
   "metadata": {},
   "outputs": [
    {
     "data": {
      "text/html": [
       "<div>\n",
       "<style scoped>\n",
       "    .dataframe tbody tr th:only-of-type {\n",
       "        vertical-align: middle;\n",
       "    }\n",
       "\n",
       "    .dataframe tbody tr th {\n",
       "        vertical-align: top;\n",
       "    }\n",
       "\n",
       "    .dataframe thead th {\n",
       "        text-align: right;\n",
       "    }\n",
       "</style>\n",
       "<table border=\"1\" class=\"dataframe\">\n",
       "  <thead>\n",
       "    <tr style=\"text-align: right;\">\n",
       "      <th></th>\n",
       "      <th>Year</th>\n",
       "    </tr>\n",
       "  </thead>\n",
       "  <tbody>\n",
       "    <tr>\n",
       "      <th>361</th>\n",
       "      <td>2020</td>\n",
       "    </tr>\n",
       "    <tr>\n",
       "      <th>158</th>\n",
       "      <td>2020</td>\n",
       "    </tr>\n",
       "    <tr>\n",
       "      <th>481</th>\n",
       "      <td>2020</td>\n",
       "    </tr>\n",
       "    <tr>\n",
       "      <th>639</th>\n",
       "      <td>2019</td>\n",
       "    </tr>\n",
       "    <tr>\n",
       "      <th>275</th>\n",
       "      <td>2019</td>\n",
       "    </tr>\n",
       "    <tr>\n",
       "      <th>...</th>\n",
       "      <td>...</td>\n",
       "    </tr>\n",
       "    <tr>\n",
       "      <th>603</th>\n",
       "      <td>2020</td>\n",
       "    </tr>\n",
       "    <tr>\n",
       "      <th>609</th>\n",
       "      <td>2020</td>\n",
       "    </tr>\n",
       "    <tr>\n",
       "      <th>470</th>\n",
       "      <td>2019</td>\n",
       "    </tr>\n",
       "    <tr>\n",
       "      <th>542</th>\n",
       "      <td>2021</td>\n",
       "    </tr>\n",
       "    <tr>\n",
       "      <th>7</th>\n",
       "      <td>2021</td>\n",
       "    </tr>\n",
       "  </tbody>\n",
       "</table>\n",
       "<p>168 rows × 1 columns</p>\n",
       "</div>"
      ],
      "text/plain": [
       "     Year\n",
       "361  2020\n",
       "158  2020\n",
       "481  2020\n",
       "639  2019\n",
       "275  2019\n",
       "..    ...\n",
       "603  2020\n",
       "609  2020\n",
       "470  2019\n",
       "542  2021\n",
       "7    2021\n",
       "\n",
       "[168 rows x 1 columns]"
      ]
     },
     "execution_count": 52,
     "metadata": {},
     "output_type": "execute_result"
    }
   ],
   "source": [
    "x_test"
   ]
  },
  {
   "cell_type": "code",
   "execution_count": 53,
   "id": "64f71f06",
   "metadata": {},
   "outputs": [
    {
     "data": {
      "text/plain": [
       "361      996\n",
       "158      508\n",
       "481       10\n",
       "639       71\n",
       "275     1279\n",
       "       ...  \n",
       "603        5\n",
       "609      128\n",
       "470      604\n",
       "542     2303\n",
       "7      18360\n",
       "Name: Total cases, Length: 168, dtype: int64"
      ]
     },
     "execution_count": 53,
     "metadata": {},
     "output_type": "execute_result"
    }
   ],
   "source": [
    "y_test"
   ]
  },
  {
   "cell_type": "code",
   "execution_count": 54,
   "id": "5e77575a",
   "metadata": {},
   "outputs": [],
   "source": [
    "from sklearn import linear_model\n",
    "lr=linear_model.LinearRegression()\n",
    "\n",
    "model=lr.fit(x_train,y_train)"
   ]
  },
  {
   "cell_type": "code",
   "execution_count": 55,
   "id": "1302910e",
   "metadata": {},
   "outputs": [
    {
     "data": {
      "text/plain": [
       "array([5560.02326596, 5560.02326596, 5560.02326596, 6060.27805679,\n",
       "       6060.27805679, 5560.02326596, 5560.02326596, 6060.27805679,\n",
       "       5059.76847514, 5059.76847514, 5059.76847514, 6060.27805679,\n",
       "       5560.02326596, 6060.27805679, 6060.27805679, 5059.76847514,\n",
       "       5059.76847514, 5560.02326596, 5059.76847514, 5560.02326596,\n",
       "       5560.02326596, 5560.02326596, 5560.02326596, 6060.27805679,\n",
       "       6060.27805679, 5560.02326596, 6060.27805679, 5560.02326596,\n",
       "       5560.02326596, 5059.76847514, 5560.02326596, 5560.02326596,\n",
       "       6060.27805679, 5560.02326596, 5560.02326596, 5560.02326596,\n",
       "       5059.76847514, 6060.27805679, 5059.76847514, 5059.76847514,\n",
       "       5059.76847514, 5560.02326596, 5059.76847514, 5560.02326596,\n",
       "       6060.27805679, 6060.27805679, 5059.76847514, 5560.02326596,\n",
       "       5059.76847514, 6060.27805679, 6060.27805679, 6060.27805679,\n",
       "       5059.76847514, 5560.02326596, 5059.76847514, 6060.27805679,\n",
       "       6060.27805679, 6060.27805679, 5560.02326596, 5560.02326596,\n",
       "       5560.02326596, 5560.02326596, 5059.76847514, 5560.02326596,\n",
       "       5560.02326596, 5059.76847514, 5059.76847514, 5059.76847514,\n",
       "       5059.76847514, 5560.02326596, 5059.76847514, 5059.76847514,\n",
       "       6060.27805679, 5560.02326596, 5059.76847514, 5059.76847514,\n",
       "       6060.27805679, 5560.02326596, 5059.76847514, 5059.76847514,\n",
       "       5059.76847514, 5560.02326596, 5059.76847514, 5059.76847514,\n",
       "       5059.76847514, 5059.76847514, 5560.02326596, 5059.76847514,\n",
       "       5059.76847514, 6060.27805679, 5059.76847514, 5059.76847514,\n",
       "       5059.76847514, 5059.76847514, 6060.27805679, 5560.02326596,\n",
       "       5560.02326596, 6060.27805679, 5560.02326596, 6060.27805679,\n",
       "       5059.76847514, 6060.27805679, 6060.27805679, 6060.27805679,\n",
       "       5059.76847514, 5560.02326596, 6060.27805679, 5059.76847514,\n",
       "       5560.02326596, 5560.02326596, 5059.76847514, 5059.76847514,\n",
       "       5560.02326596, 5059.76847514, 6060.27805679, 5560.02326596,\n",
       "       6060.27805679, 6060.27805679, 5059.76847514, 6060.27805679,\n",
       "       5059.76847514, 6060.27805679, 5059.76847514, 5560.02326596,\n",
       "       5560.02326596, 6060.27805679, 5059.76847514, 5059.76847514,\n",
       "       5059.76847514, 5560.02326596, 6060.27805679, 6060.27805679,\n",
       "       6060.27805679, 5059.76847514, 6060.27805679, 5560.02326596,\n",
       "       5560.02326596, 5059.76847514, 5560.02326596, 5560.02326596,\n",
       "       5059.76847514, 5560.02326596, 5560.02326596, 6060.27805679,\n",
       "       5560.02326596, 5560.02326596, 5560.02326596, 6060.27805679,\n",
       "       6060.27805679, 5059.76847514, 6060.27805679, 5560.02326596,\n",
       "       6060.27805679, 6060.27805679, 6060.27805679, 6060.27805679,\n",
       "       6060.27805679, 6060.27805679, 5560.02326596, 5560.02326596,\n",
       "       6060.27805679, 5560.02326596, 5560.02326596, 5560.02326596,\n",
       "       5560.02326596, 6060.27805679, 5059.76847514, 5059.76847514])"
      ]
     },
     "execution_count": 55,
     "metadata": {},
     "output_type": "execute_result"
    }
   ],
   "source": [
    "predictions=model.predict(x_test)\n",
    "predictions"
   ]
  },
  {
   "cell_type": "code",
   "execution_count": 56,
   "id": "815581e0",
   "metadata": {},
   "outputs": [
    {
     "data": {
      "text/plain": [
       "array([5560.02326596, 5560.02326596, 5560.02326596, 6060.27805679,\n",
       "       6060.27805679, 5560.02326596, 5560.02326596, 6060.27805679,\n",
       "       5059.76847514, 5059.76847514, 5059.76847514, 6060.27805679,\n",
       "       5560.02326596, 6060.27805679, 6060.27805679, 5059.76847514,\n",
       "       5059.76847514, 5560.02326596, 5059.76847514, 5560.02326596,\n",
       "       5560.02326596, 5560.02326596, 5560.02326596, 6060.27805679,\n",
       "       6060.27805679, 5560.02326596, 6060.27805679, 5560.02326596,\n",
       "       5560.02326596, 5059.76847514, 5560.02326596, 5560.02326596,\n",
       "       6060.27805679, 5560.02326596, 5560.02326596, 5560.02326596,\n",
       "       5059.76847514, 6060.27805679, 5059.76847514, 5059.76847514,\n",
       "       5059.76847514, 5560.02326596, 5059.76847514, 5560.02326596,\n",
       "       6060.27805679, 6060.27805679, 5059.76847514, 5560.02326596,\n",
       "       5059.76847514, 6060.27805679, 6060.27805679, 6060.27805679,\n",
       "       5059.76847514, 5560.02326596, 5059.76847514, 6060.27805679,\n",
       "       6060.27805679, 6060.27805679, 5560.02326596, 5560.02326596,\n",
       "       5560.02326596, 5560.02326596, 5059.76847514, 5560.02326596,\n",
       "       5560.02326596, 5059.76847514, 5059.76847514, 5059.76847514,\n",
       "       5059.76847514, 5560.02326596, 5059.76847514, 5059.76847514,\n",
       "       6060.27805679, 5560.02326596, 5059.76847514, 5059.76847514,\n",
       "       6060.27805679, 5560.02326596, 5059.76847514, 5059.76847514,\n",
       "       5059.76847514, 5560.02326596, 5059.76847514, 5059.76847514,\n",
       "       5059.76847514, 5059.76847514, 5560.02326596, 5059.76847514,\n",
       "       5059.76847514, 6060.27805679, 5059.76847514, 5059.76847514,\n",
       "       5059.76847514, 5059.76847514, 6060.27805679, 5560.02326596,\n",
       "       5560.02326596, 6060.27805679, 5560.02326596, 6060.27805679,\n",
       "       5059.76847514, 6060.27805679, 6060.27805679, 6060.27805679,\n",
       "       5059.76847514, 5560.02326596, 6060.27805679, 5059.76847514,\n",
       "       5560.02326596, 5560.02326596, 5059.76847514, 5059.76847514,\n",
       "       5560.02326596, 5059.76847514, 6060.27805679, 5560.02326596,\n",
       "       6060.27805679, 6060.27805679, 5059.76847514, 6060.27805679,\n",
       "       5059.76847514, 6060.27805679, 5059.76847514, 5560.02326596,\n",
       "       5560.02326596, 6060.27805679, 5059.76847514, 5059.76847514,\n",
       "       5059.76847514, 5560.02326596, 6060.27805679, 6060.27805679,\n",
       "       6060.27805679, 5059.76847514, 6060.27805679, 5560.02326596,\n",
       "       5560.02326596, 5059.76847514, 5560.02326596, 5560.02326596,\n",
       "       5059.76847514, 5560.02326596, 5560.02326596, 6060.27805679,\n",
       "       5560.02326596, 5560.02326596, 5560.02326596, 6060.27805679,\n",
       "       6060.27805679, 5059.76847514, 6060.27805679, 5560.02326596,\n",
       "       6060.27805679, 6060.27805679, 6060.27805679, 6060.27805679,\n",
       "       6060.27805679, 6060.27805679, 5560.02326596, 5560.02326596,\n",
       "       6060.27805679, 5560.02326596, 5560.02326596, 5560.02326596,\n",
       "       5560.02326596, 6060.27805679, 5059.76847514, 5059.76847514])"
      ]
     },
     "execution_count": 56,
     "metadata": {},
     "output_type": "execute_result"
    }
   ],
   "source": [
    "predictions"
   ]
  },
  {
   "cell_type": "code",
   "execution_count": 57,
   "id": "6fb00e6b",
   "metadata": {},
   "outputs": [
    {
     "name": "stdout",
     "output_type": "stream",
     "text": [
      "361      996\n",
      "158      508\n",
      "481       10\n",
      "639       71\n",
      "275     1279\n",
      "       ...  \n",
      "603        5\n",
      "609      128\n",
      "470      604\n",
      "542     2303\n",
      "7      18360\n",
      "Name: Total cases, Length: 168, dtype: int64\n"
     ]
    }
   ],
   "source": [
    "print(y_test)"
   ]
  },
  {
   "cell_type": "code",
   "execution_count": 58,
   "id": "4836dc95",
   "metadata": {},
   "outputs": [],
   "source": [
    "from sklearn.metrics import mean_squared_error"
   ]
  },
  {
   "cell_type": "code",
   "execution_count": 59,
   "id": "0f4a54fe",
   "metadata": {},
   "outputs": [
    {
     "name": "stdout",
     "output_type": "stream",
     "text": [
      "MSC is: 506864972.900693\n"
     ]
    }
   ],
   "source": [
    "print('MSC is:',mean_squared_error(y_test,predictions))"
   ]
  },
  {
   "cell_type": "code",
   "execution_count": null,
   "id": "ddd0cd91",
   "metadata": {},
   "outputs": [],
   "source": [
    "\n"
   ]
  }
 ],
 "metadata": {
  "kernelspec": {
   "display_name": "Python 3 (ipykernel)",
   "language": "python",
   "name": "python3"
  },
  "language_info": {
   "codemirror_mode": {
    "name": "ipython",
    "version": 3
   },
   "file_extension": ".py",
   "mimetype": "text/x-python",
   "name": "python",
   "nbconvert_exporter": "python",
   "pygments_lexer": "ipython3",
   "version": "3.9.12"
  }
 },
 "nbformat": 4,
 "nbformat_minor": 5
}
